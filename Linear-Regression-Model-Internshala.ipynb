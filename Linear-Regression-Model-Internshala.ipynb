{
  "nbformat": 4,
  "nbformat_minor": 0,
  "metadata": {
    "colab": {
      "name": "Untitled14.ipynb",
      "provenance": [],
      "collapsed_sections": []
    },
    "kernelspec": {
      "name": "python3",
      "display_name": "Python 3"
    },
    "language_info": {
      "name": "python"
    }
  },
  "cells": [
    {
      "cell_type": "code",
      "metadata": {
        "id": "mXyGomsVJV9W"
      },
      "source": [
        "data = pd.read_csv('/content/Transformed_Housing_Data2.csv')"
      ],
      "execution_count": null,
      "outputs": []
    },
    {
      "cell_type": "code",
      "metadata": {
        "id": "xinGIJpHJG2K"
      },
      "source": [
        "import numpy as np\n",
        "import pandas as pd\n",
        "import matplotlib.pyplot as plt"
      ],
      "execution_count": null,
      "outputs": []
    },
    {
      "cell_type": "code",
      "metadata": {
        "colab": {
          "base_uri": "https://localhost:8080/",
          "height": 969
        },
        "id": "q55ifQc_Jcso",
        "outputId": "94cff8a6-cc64-4ad7-c045-e6fa850bfd41"
      },
      "source": [
        "sale_price = data['Sale_Price'].head(30)\n",
        "flat_area = data['Flat Area (in Sqft)'].head(30)\n",
        "sample_data = pd.DataFrame({'sale_price': sale_price, 'flat_area': flat_area})\n",
        "sample_data"
      ],
      "execution_count": null,
      "outputs": [
        {
          "output_type": "execute_result",
          "data": {
            "text/html": [
              "<div>\n",
              "<style scoped>\n",
              "    .dataframe tbody tr th:only-of-type {\n",
              "        vertical-align: middle;\n",
              "    }\n",
              "\n",
              "    .dataframe tbody tr th {\n",
              "        vertical-align: top;\n",
              "    }\n",
              "\n",
              "    .dataframe thead th {\n",
              "        text-align: right;\n",
              "    }\n",
              "</style>\n",
              "<table border=\"1\" class=\"dataframe\">\n",
              "  <thead>\n",
              "    <tr style=\"text-align: right;\">\n",
              "      <th></th>\n",
              "      <th>sale_price</th>\n",
              "      <th>flat_area</th>\n",
              "    </tr>\n",
              "  </thead>\n",
              "  <tbody>\n",
              "    <tr>\n",
              "      <th>0</th>\n",
              "      <td>221900.0</td>\n",
              "      <td>1180.0</td>\n",
              "    </tr>\n",
              "    <tr>\n",
              "      <th>1</th>\n",
              "      <td>538000.0</td>\n",
              "      <td>2570.0</td>\n",
              "    </tr>\n",
              "    <tr>\n",
              "      <th>2</th>\n",
              "      <td>180000.0</td>\n",
              "      <td>770.0</td>\n",
              "    </tr>\n",
              "    <tr>\n",
              "      <th>3</th>\n",
              "      <td>604000.0</td>\n",
              "      <td>1960.0</td>\n",
              "    </tr>\n",
              "    <tr>\n",
              "      <th>4</th>\n",
              "      <td>510000.0</td>\n",
              "      <td>1680.0</td>\n",
              "    </tr>\n",
              "    <tr>\n",
              "      <th>5</th>\n",
              "      <td>1129575.0</td>\n",
              "      <td>5420.0</td>\n",
              "    </tr>\n",
              "    <tr>\n",
              "      <th>6</th>\n",
              "      <td>257500.0</td>\n",
              "      <td>1715.0</td>\n",
              "    </tr>\n",
              "    <tr>\n",
              "      <th>7</th>\n",
              "      <td>291850.0</td>\n",
              "      <td>1060.0</td>\n",
              "    </tr>\n",
              "    <tr>\n",
              "      <th>8</th>\n",
              "      <td>229500.0</td>\n",
              "      <td>1780.0</td>\n",
              "    </tr>\n",
              "    <tr>\n",
              "      <th>9</th>\n",
              "      <td>323000.0</td>\n",
              "      <td>1890.0</td>\n",
              "    </tr>\n",
              "    <tr>\n",
              "      <th>10</th>\n",
              "      <td>662500.0</td>\n",
              "      <td>3560.0</td>\n",
              "    </tr>\n",
              "    <tr>\n",
              "      <th>11</th>\n",
              "      <td>468000.0</td>\n",
              "      <td>1160.0</td>\n",
              "    </tr>\n",
              "    <tr>\n",
              "      <th>12</th>\n",
              "      <td>310000.0</td>\n",
              "      <td>1430.0</td>\n",
              "    </tr>\n",
              "    <tr>\n",
              "      <th>13</th>\n",
              "      <td>400000.0</td>\n",
              "      <td>1370.0</td>\n",
              "    </tr>\n",
              "    <tr>\n",
              "      <th>14</th>\n",
              "      <td>530000.0</td>\n",
              "      <td>1810.0</td>\n",
              "    </tr>\n",
              "    <tr>\n",
              "      <th>15</th>\n",
              "      <td>650000.0</td>\n",
              "      <td>2950.0</td>\n",
              "    </tr>\n",
              "    <tr>\n",
              "      <th>16</th>\n",
              "      <td>395000.0</td>\n",
              "      <td>1890.0</td>\n",
              "    </tr>\n",
              "    <tr>\n",
              "      <th>17</th>\n",
              "      <td>485000.0</td>\n",
              "      <td>1600.0</td>\n",
              "    </tr>\n",
              "    <tr>\n",
              "      <th>18</th>\n",
              "      <td>189000.0</td>\n",
              "      <td>1200.0</td>\n",
              "    </tr>\n",
              "    <tr>\n",
              "      <th>19</th>\n",
              "      <td>230000.0</td>\n",
              "      <td>1250.0</td>\n",
              "    </tr>\n",
              "    <tr>\n",
              "      <th>20</th>\n",
              "      <td>385000.0</td>\n",
              "      <td>1620.0</td>\n",
              "    </tr>\n",
              "    <tr>\n",
              "      <th>21</th>\n",
              "      <td>1129575.0</td>\n",
              "      <td>3050.0</td>\n",
              "    </tr>\n",
              "    <tr>\n",
              "      <th>22</th>\n",
              "      <td>285000.0</td>\n",
              "      <td>2270.0</td>\n",
              "    </tr>\n",
              "    <tr>\n",
              "      <th>23</th>\n",
              "      <td>252700.0</td>\n",
              "      <td>1070.0</td>\n",
              "    </tr>\n",
              "    <tr>\n",
              "      <th>24</th>\n",
              "      <td>329000.0</td>\n",
              "      <td>2450.0</td>\n",
              "    </tr>\n",
              "    <tr>\n",
              "      <th>25</th>\n",
              "      <td>233000.0</td>\n",
              "      <td>1710.0</td>\n",
              "    </tr>\n",
              "    <tr>\n",
              "      <th>26</th>\n",
              "      <td>937000.0</td>\n",
              "      <td>2450.0</td>\n",
              "    </tr>\n",
              "    <tr>\n",
              "      <th>27</th>\n",
              "      <td>667000.0</td>\n",
              "      <td>1400.0</td>\n",
              "    </tr>\n",
              "    <tr>\n",
              "      <th>28</th>\n",
              "      <td>438000.0</td>\n",
              "      <td>1520.0</td>\n",
              "    </tr>\n",
              "    <tr>\n",
              "      <th>29</th>\n",
              "      <td>719000.0</td>\n",
              "      <td>2570.0</td>\n",
              "    </tr>\n",
              "  </tbody>\n",
              "</table>\n",
              "</div>"
            ],
            "text/plain": [
              "    sale_price  flat_area\n",
              "0     221900.0     1180.0\n",
              "1     538000.0     2570.0\n",
              "2     180000.0      770.0\n",
              "3     604000.0     1960.0\n",
              "4     510000.0     1680.0\n",
              "5    1129575.0     5420.0\n",
              "6     257500.0     1715.0\n",
              "7     291850.0     1060.0\n",
              "8     229500.0     1780.0\n",
              "9     323000.0     1890.0\n",
              "10    662500.0     3560.0\n",
              "11    468000.0     1160.0\n",
              "12    310000.0     1430.0\n",
              "13    400000.0     1370.0\n",
              "14    530000.0     1810.0\n",
              "15    650000.0     2950.0\n",
              "16    395000.0     1890.0\n",
              "17    485000.0     1600.0\n",
              "18    189000.0     1200.0\n",
              "19    230000.0     1250.0\n",
              "20    385000.0     1620.0\n",
              "21   1129575.0     3050.0\n",
              "22    285000.0     2270.0\n",
              "23    252700.0     1070.0\n",
              "24    329000.0     2450.0\n",
              "25    233000.0     1710.0\n",
              "26    937000.0     2450.0\n",
              "27    667000.0     1400.0\n",
              "28    438000.0     1520.0\n",
              "29    719000.0     2570.0"
            ]
          },
          "metadata": {
            "tags": []
          },
          "execution_count": 3
        }
      ]
    },
    {
      "cell_type": "code",
      "metadata": {
        "colab": {
          "base_uri": "https://localhost:8080/",
          "height": 486
        },
        "id": "M9JshpDSKjQx",
        "outputId": "bbec9920-349b-4771-a207-ae82616ca3f7"
      },
      "source": [
        "plt.figure(dpi=150)\n",
        "plt.scatter(sample_data.flat_area, sample_data.sale_price, color='red')\n",
        "plt.xlabel('flat area')\n",
        "plt.ylabel('sale price')\n",
        "plt.title('sale price/flat area')\n",
        "plt.legend()\n",
        "plt.show() "
      ],
      "execution_count": null,
      "outputs": [
        {
          "output_type": "stream",
          "text": [
            "No handles with labels found to put in legend.\n"
          ],
          "name": "stderr"
        },
        {
          "output_type": "display_data",
          "data": {
            "image/png": "[encoded data removed]",
            "text/plain": [
              "<Figure size 900x600 with 1 Axes>"
            ]
          },
          "metadata": {
            "tags": [],
            "needs_background": "light"
          }
        }
      ]
    },
    {
      "cell_type": "code",
      "metadata": {
        "colab": {
          "base_uri": "https://localhost:8080/",
          "height": 383
        },
        "id": "ajOwQ6JtNfxD",
        "outputId": "0101ac04-39f4-42b7-da93-c31179c598ac"
      },
      "source": [
        "from sklearn.metrics import mean_squared_error\n",
        "c = 0\n",
        "m = 200 \n",
        "line = []\n",
        "for i in range(len(sample_data)):\n",
        "  line.append(sample_data.flat_area[i]*m+c)\n",
        "\n",
        "plt.figure(dpi=90)\n",
        "plt.scatter(sample_data.flat_area, sample_data.sale_price)\n",
        "plt.plot(sample_data.flat_area, line, label = 'm = 0.0; c = 0')\n",
        "plt.xlabel('flat_area')\n",
        "plt.ylabel('sale_price')\n",
        "plt.legend()\n",
        "mse = mean_squared_error(sample_data.sale_price, line)\n",
        "plt.title('slope '+str(m)+' with mse '+ str(mse))"
      ],
      "execution_count": null,
      "outputs": [
        {
          "output_type": "execute_result",
          "data": {
            "text/plain": [
              "Text(0.5, 1.0, 'slope 200 with mse 33316584458.333332')"
            ]
          },
          "metadata": {
            "tags": []
          },
          "execution_count": 5
        },
        {
          "output_type": "display_data",
          "data": {
            "image/png": "[encoded data removed]",
            "text/plain": [
              "<Figure size 540x360 with 1 Axes>"
            ]
          },
          "metadata": {
            "tags": [],
            "needs_background": "light"
          }
        }
      ]
    },
    {
      "cell_type": "code",
      "metadata": {
        "id": "bY_iA548S-2C"
      },
      "source": [
        "def slope_intercept(slope,intercept,sample_data):\n",
        "  sale  = []\n",
        "  for i in range(len(sample_data.flat_area)):\n",
        "    tmp = sample_data.flat_area[i]*slope+intercept\n",
        "    sale.append(tmp)\n",
        "  mse = mean_squared_error(sample_data.sale_price,sale)\n",
        "  return mse"
      ],
      "execution_count": null,
      "outputs": []
    },
    {
      "cell_type": "code",
      "metadata": {
        "id": "l_PdtH8BURcd"
      },
      "source": [
        "slope = [i/10 for i in range(0,5000)]\n",
        "Cost = []\n",
        "for i in slope:\n",
        "  cost = slope_intercept(slope=i, intercept = 10834, sample_data=sample_data)\n",
        "  Cost.append(cost)"
      ],
      "execution_count": null,
      "outputs": []
    },
    {
      "cell_type": "code",
      "metadata": {
        "colab": {
          "base_uri": "https://localhost:8080/",
          "height": 202
        },
        "id": "WPNXs4hvU3Qc",
        "outputId": "e385a833-a72d-4dd9-b3e9-0c3ae3ed893c"
      },
      "source": [
        "cost_table = pd.DataFrame(\n",
        "    {'slope':slope,'cost':Cost}\n",
        ")\n",
        "cost_table.tail()"
      ],
      "execution_count": null,
      "outputs": [
        {
          "output_type": "execute_result",
          "data": {
            "text/html": [
              "<div>\n",
              "<style scoped>\n",
              "    .dataframe tbody tr th:only-of-type {\n",
              "        vertical-align: middle;\n",
              "    }\n",
              "\n",
              "    .dataframe tbody tr th {\n",
              "        vertical-align: top;\n",
              "    }\n",
              "\n",
              "    .dataframe thead th {\n",
              "        text-align: right;\n",
              "    }\n",
              "</style>\n",
              "<table border=\"1\" class=\"dataframe\">\n",
              "  <thead>\n",
              "    <tr style=\"text-align: right;\">\n",
              "      <th></th>\n",
              "      <th>slope</th>\n",
              "      <th>cost</th>\n",
              "    </tr>\n",
              "  </thead>\n",
              "  <tbody>\n",
              "    <tr>\n",
              "      <th>4995</th>\n",
              "      <td>499.5</td>\n",
              "      <td>3.636767e+11</td>\n",
              "    </tr>\n",
              "    <tr>\n",
              "      <th>4996</th>\n",
              "      <td>499.6</td>\n",
              "      <td>3.639259e+11</td>\n",
              "    </tr>\n",
              "    <tr>\n",
              "      <th>4997</th>\n",
              "      <td>499.7</td>\n",
              "      <td>3.641751e+11</td>\n",
              "    </tr>\n",
              "    <tr>\n",
              "      <th>4998</th>\n",
              "      <td>499.8</td>\n",
              "      <td>3.644245e+11</td>\n",
              "    </tr>\n",
              "    <tr>\n",
              "      <th>4999</th>\n",
              "      <td>499.9</td>\n",
              "      <td>3.646739e+11</td>\n",
              "    </tr>\n",
              "  </tbody>\n",
              "</table>\n",
              "</div>"
            ],
            "text/plain": [
              "      slope          cost\n",
              "4995  499.5  3.636767e+11\n",
              "4996  499.6  3.639259e+11\n",
              "4997  499.7  3.641751e+11\n",
              "4998  499.8  3.644245e+11\n",
              "4999  499.9  3.646739e+11"
            ]
          },
          "metadata": {
            "tags": []
          },
          "execution_count": 8
        }
      ]
    },
    {
      "cell_type": "code",
      "metadata": {
        "colab": {
          "base_uri": "https://localhost:8080/",
          "height": 307
        },
        "id": "AFAT6njncEpw",
        "outputId": "fda0baf5-dc75-4203-c66a-47d2ee0275a5"
      },
      "source": [
        "plt.plot(cost_table.slope, cost_table.cost, label = 'cost function curve')\n",
        "plt.xlabel('value of slope')\n",
        "plt.ylabel('cost')\n",
        "plt.legend()\n",
        "# this is the cost/loss function curve "
      ],
      "execution_count": null,
      "outputs": [
        {
          "output_type": "execute_result",
          "data": {
            "text/plain": [
              "<matplotlib.legend.Legend at 0x7fb3b1036050>"
            ]
          },
          "metadata": {
            "tags": []
          },
          "execution_count": 9
        },
        {
          "output_type": "display_data",
          "data": {
            "image/png": "[encoded data removed]",
            "text/plain": [
              "<Figure size 432x288 with 1 Axes>"
            ]
          },
          "metadata": {
            "tags": [],
            "needs_background": "light"
          }
        }
      ]
    },
    {
      "cell_type": "code",
      "metadata": {
        "id": "-ZNMPH0MzGak"
      },
      "source": [
        "def intercept_error(slope,intercept,sample_data):\n",
        "  sale=[]\n",
        "  for i in range(len(sample_data.flat_area)):\n",
        "    tmp = sample_data.flat_area[i]*slope+intercept\n",
        "    sale.append(tmp)\n",
        "  mse = mean_squared_error(sample_data.sale_price,sale)\n",
        "  return mse"
      ],
      "execution_count": null,
      "outputs": []
    },
    {
      "cell_type": "code",
      "metadata": {
        "id": "ISh3pZ_w0MKV"
      },
      "source": [
        "intercept = [i for i in range(5000,50000)]\n",
        "Cost = []\n",
        "for i in intercept:\n",
        "  cost = intercept_error(slope =234, intercept=i, sample_data=sample_data)\n",
        "  Cost.append(cost)"
      ],
      "execution_count": null,
      "outputs": []
    },
    {
      "cell_type": "code",
      "metadata": {
        "colab": {
          "base_uri": "https://localhost:8080/",
          "height": 202
        },
        "id": "LXWBx8542PCW",
        "outputId": "9fc37bb8-423c-480e-eb9f-198913047dda"
      },
      "source": [
        "cost_table = pd.DataFrame(\n",
        "    {'intercept':intercept,'cost':Cost}\n",
        ")\n",
        "cost_table.head()"
      ],
      "execution_count": null,
      "outputs": [
        {
          "output_type": "execute_result",
          "data": {
            "text/html": [
              "<div>\n",
              "<style scoped>\n",
              "    .dataframe tbody tr th:only-of-type {\n",
              "        vertical-align: middle;\n",
              "    }\n",
              "\n",
              "    .dataframe tbody tr th {\n",
              "        vertical-align: top;\n",
              "    }\n",
              "\n",
              "    .dataframe thead th {\n",
              "        text-align: right;\n",
              "    }\n",
              "</style>\n",
              "<table border=\"1\" class=\"dataframe\">\n",
              "  <thead>\n",
              "    <tr style=\"text-align: right;\">\n",
              "      <th></th>\n",
              "      <th>intercept</th>\n",
              "      <th>cost</th>\n",
              "    </tr>\n",
              "  </thead>\n",
              "  <tbody>\n",
              "    <tr>\n",
              "      <th>0</th>\n",
              "      <td>5000</td>\n",
              "      <td>2.779911e+10</td>\n",
              "    </tr>\n",
              "    <tr>\n",
              "      <th>1</th>\n",
              "      <td>5001</td>\n",
              "      <td>2.779909e+10</td>\n",
              "    </tr>\n",
              "    <tr>\n",
              "      <th>2</th>\n",
              "      <td>5002</td>\n",
              "      <td>2.779908e+10</td>\n",
              "    </tr>\n",
              "    <tr>\n",
              "      <th>3</th>\n",
              "      <td>5003</td>\n",
              "      <td>2.779907e+10</td>\n",
              "    </tr>\n",
              "    <tr>\n",
              "      <th>4</th>\n",
              "      <td>5004</td>\n",
              "      <td>2.779906e+10</td>\n",
              "    </tr>\n",
              "  </tbody>\n",
              "</table>\n",
              "</div>"
            ],
            "text/plain": [
              "   intercept          cost\n",
              "0       5000  2.779911e+10\n",
              "1       5001  2.779909e+10\n",
              "2       5002  2.779908e+10\n",
              "3       5003  2.779907e+10\n",
              "4       5004  2.779906e+10"
            ]
          },
          "metadata": {
            "tags": []
          },
          "execution_count": 12
        }
      ]
    },
    {
      "cell_type": "code",
      "metadata": {
        "colab": {
          "base_uri": "https://localhost:8080/",
          "height": 307
        },
        "id": "s-6JaL7v21nT",
        "outputId": "0d5fbc15-9cba-4f48-a5b6-d804ada8dfef"
      },
      "source": [
        "plt.plot(cost_table.intercept, cost_table.cost, label = 'cost function curve')\n",
        "plt.xlabel('value of intercept')\n",
        "plt.ylabel('cost')\n",
        "plt.legend()"
      ],
      "execution_count": null,
      "outputs": [
        {
          "output_type": "execute_result",
          "data": {
            "text/plain": [
              "<matplotlib.legend.Legend at 0x7fb3b0fc6b10>"
            ]
          },
          "metadata": {
            "tags": []
          },
          "execution_count": 13
        },
        {
          "output_type": "display_data",
          "data": {
            "image/png": "[encoded data removed]",
            "text/plain": [
              "<Figure size 432x288 with 1 Axes>"
            ]
          },
          "metadata": {
            "tags": [],
            "needs_background": "light"
          }
        }
      ]
    },
    {
      "cell_type": "markdown",
      "metadata": {
        "id": "MwvVMnxrT5Hh"
      },
      "source": [
        "### **implementing gradient descent**"
      ]
    },
    {
      "cell_type": "code",
      "metadata": {
        "id": "HecWMi3bT395"
      },
      "source": [
        "def param_init(y):\n",
        "  m=0.1\n",
        "  c=y.mean()\n",
        "  return m,c"
      ],
      "execution_count": null,
      "outputs": []
    },
    {
      "cell_type": "code",
      "metadata": {
        "id": "0sTzsyCoUlp3"
      },
      "source": [
        "def generate_predictions(m,c,X):\n",
        "  prediction = []\n",
        "  for x in X:\n",
        "    pred = m*x+c\n",
        "    prediction.append(pred)\n",
        "  return prediction"
      ],
      "execution_count": null,
      "outputs": []
    },
    {
      "cell_type": "code",
      "metadata": {
        "id": "iLTnPbuCVLek"
      },
      "source": [
        "def compute_cost(prediction,Y):\n",
        "  cost = np.sum(((prediction - Y)**2)/len(Y))\n",
        "  return cost"
      ],
      "execution_count": null,
      "outputs": []
    },
    {
      "cell_type": "code",
      "metadata": {
        "id": "hNvmf0tPV85P"
      },
      "source": [
        "def gradients(prediction, Y, X):\n",
        "  n = len(Y)\n",
        "  Gm = 2/n * np.sum((prediction-Y)*X)\n",
        "  Gc = 2/n * np.sum((prediction-Y))\n",
        "  return Gm, Gc"
      ],
      "execution_count": null,
      "outputs": []
    },
    {
      "cell_type": "code",
      "metadata": {
        "id": "hreBuVmEWuVS"
      },
      "source": [
        "def param_update(m_old, c_old, Gm_old, Gc_old):\n",
        "  m_new = m_old - alpha * Gm_old\n",
        "  c_new = c_old - alpha * Gc_old\n",
        "  return m_new, c_new"
      ],
      "execution_count": null,
      "outputs": []
    },
    {
      "cell_type": "code",
      "metadata": {
        "id": "yO_NJnzPXN_f"
      },
      "source": [
        "def result(m,c,X,Y,cost,prediction,i):\n",
        "  if i< max_itr -1:\n",
        "    print('gradient descent has converged'.format(i))\n",
        "  else:\n",
        "    print('result after ', max_itr,' iterations is: ')\n",
        "\n",
        "  plt.figure(figsize=(14,7), dpi = 120)\n",
        "  plt.scatter(X, Y, color='red', label='data points')\n",
        "  label = 'final regression line: m = {}; c = {}'.format(str(m), str(c))\n",
        "  plt.plot(X, predictions, color='green', label = label)\n",
        "  plt.xlabel('flat_area')\n",
        "  plt.ylabel('sale_price')\n",
        "  plt.title('final regression line')\n",
        "  plt.legend()"
      ],
      "execution_count": null,
      "outputs": []
    },
    {
      "cell_type": "code",
      "metadata": {
        "colab": {
          "base_uri": "https://localhost:8080/",
          "height": 645
        },
        "id": "0R1DF0QiZnf-",
        "outputId": "6aa7274d-9777-4fd5-a4cc-bd7759678e39"
      },
      "source": [
        "from sklearn.preprocessing import StandardScaler\n",
        "scaler = StandardScaler()\n",
        "sale_price = scaler.fit_transform(sample_data['sale_price'].values.reshape(-1,1))\n",
        "flat_area  = scaler.fit_transform(sample_data['flat_area'].values.reshape(-1,1))\n",
        "\n",
        "max_itr = 1000\n",
        "cost_old = 0\n",
        "alpha = 0.01\n",
        "\n",
        "m,c = param_init(sale_price)\n",
        "\n",
        "for i in range(0,max_itr):\n",
        "  predictions = generate_predictions(m,c, flat_area)\n",
        "  cost_new = compute_cost(predictions,sale_price)\n",
        "  if abs(cost_new - cost_old)<10**(-7):\n",
        "    break\n",
        "  Gm, Gc = gradients(predictions, sale_price, flat_area)\n",
        "  m,c = param_update(m,c,Gm,Gc)\n",
        "  if i%20 ==0:\n",
        "    print('after iteration', i, ': m=', m, '; c = ', c,'; cost =', cost_new)\n",
        "  cost_old = cost_new\n",
        "\n",
        "result(m,c,flat_area,sale_price,cost_new,predictions,i)  "
      ],
      "execution_count": null,
      "outputs": [
        {
          "output_type": "stream",
          "text": [
            "after iteration 0 : m= 0.11316346413633305 ; c =  1.1849780416165836e-16 ; cost = 0.85836535863667\n",
            "after iteration 20 : m= 0.3275595607435688 ; c =  1.240489192847842e-16 ; cost = 0.6182472245590185\n",
            "after iteration 40 : m= 0.4706921039517346 ; c =  1.3248661427193537e-16 ; cost = 0.5112264752046607\n",
            "after iteration 60 : m= 0.5662485308150865 ; c =  1.415904430738617e-16 ; cost = 0.46352728398628984\n",
            "after iteration 80 : m= 0.6300427631414932 ; c =  1.4951003398285442e-16 ; cost = 0.4422677351921283\n",
            "after iteration 100 : m= 0.6726323011945988 ; c =  1.611303683072644e-16 ; cost = 0.4327923457067555\n",
            "after iteration 120 : m= 0.7010654163122192 ; c =  1.666074685620818e-16 ; cost = 0.42856916078553225\n",
            "after iteration 140 : m= 0.7200475906265729 ; c =  1.6660746856208182e-16 ; cost = 0.4266868855601835\n",
            "after iteration 160 : m= 0.7327202415200801 ; c =  1.669405354694694e-16 ; cost = 0.42584795473189874\n",
            "after iteration 180 : m= 0.7411806042798547 ; c =  1.6694053546946945e-16 ; cost = 0.42547404292284524\n",
            "after iteration 200 : m= 0.7468288099022201 ; c =  1.6760666928424454e-16 ; cost = 0.42530739027850817\n",
            "after iteration 220 : m= 0.7505995970018231 ; c =  1.6605235704976932e-16 ; cost = 0.42523311312760764\n",
            "after iteration 240 : m= 0.7531170045293095 ; c =  1.6642243139131105e-16 ; cost = 0.4252000077714469\n",
            "after iteration 260 : m= 0.7547976458628156 ; c =  1.6716258007439448e-16 ; cost = 0.42518525270083307\n",
            "after iteration 280 : m= 0.7559196554147255 ; c =  1.6686652060116111e-16 ; cost = 0.4251786763599003\n",
            "gradient descent has converged\n"
          ],
          "name": "stdout"
        },
        {
          "output_type": "display_data",
          "data": {
            "image/png": "[encoded data removed]",
            "text/plain": [
              "<Figure size 1680x840 with 1 Axes>"
            ]
          },
          "metadata": {
            "tags": [],
            "needs_background": "light"
          }
        }
      ]
    },
    {
      "cell_type": "markdown",
      "metadata": {
        "id": "Rzm9GQ3CwKOr"
      },
      "source": [
        "implementing linear regression"
      ]
    },
    {
      "cell_type": "code",
      "metadata": {
        "id": "e0TsOAmkbXlX"
      },
      "source": [
        "import numpy as np\n",
        "import pandas as pd\n",
        "import matplotlib.pyplot as plt"
      ],
      "execution_count": null,
      "outputs": []
    },
    {
      "cell_type": "code",
      "metadata": {
        "id": "uzk-PJBOwYJe"
      },
      "source": [
        "data = pd.read_csv('/content/Transformed_Housing_Data2.csv')"
      ],
      "execution_count": null,
      "outputs": []
    },
    {
      "cell_type": "code",
      "metadata": {
        "colab": {
          "base_uri": "https://localhost:8080/",
          "height": 326
        },
        "id": "4lMHUmixwe75",
        "outputId": "676cd2d9-c302-43ab-e4b5-9c273f21ccfc"
      },
      "source": [
        "data.head()"
      ],
      "execution_count": null,
      "outputs": [
        {
          "output_type": "execute_result",
          "data": {
            "text/html": [
              "<div>\n",
              "<style scoped>\n",
              "    .dataframe tbody tr th:only-of-type {\n",
              "        vertical-align: middle;\n",
              "    }\n",
              "\n",
              "    .dataframe tbody tr th {\n",
              "        vertical-align: top;\n",
              "    }\n",
              "\n",
              "    .dataframe thead th {\n",
              "        text-align: right;\n",
              "    }\n",
              "</style>\n",
              "<table border=\"1\" class=\"dataframe\">\n",
              "  <thead>\n",
              "    <tr style=\"text-align: right;\">\n",
              "      <th></th>\n",
              "      <th>Sale_Price</th>\n",
              "      <th>No of Bedrooms</th>\n",
              "      <th>No of Bathrooms</th>\n",
              "      <th>Flat Area (in Sqft)</th>\n",
              "      <th>Lot Area (in Sqft)</th>\n",
              "      <th>No of Floors</th>\n",
              "      <th>No of Times Visited</th>\n",
              "      <th>Overall Grade</th>\n",
              "      <th>Area of the House from Basement (in Sqft)</th>\n",
              "      <th>Basement Area (in Sqft)</th>\n",
              "      <th>Age of House (in Years)</th>\n",
              "      <th>Latitude</th>\n",
              "      <th>Longitude</th>\n",
              "      <th>Living Area after Renovation (in Sqft)</th>\n",
              "      <th>Lot Area after Renovation (in Sqft)</th>\n",
              "      <th>Years Since Renovation</th>\n",
              "      <th>Condition_of_the_House_Excellent</th>\n",
              "      <th>Condition_of_the_House_Fair</th>\n",
              "      <th>Condition_of_the_House_Good</th>\n",
              "      <th>Condition_of_the_House_Okay</th>\n",
              "      <th>Ever_Renovated_Yes</th>\n",
              "      <th>Waterfront_View_Yes</th>\n",
              "      <th>Zipcode_Group_Zipcode_Group_1</th>\n",
              "      <th>Zipcode_Group_Zipcode_Group_2</th>\n",
              "      <th>Zipcode_Group_Zipcode_Group_3</th>\n",
              "      <th>Zipcode_Group_Zipcode_Group_4</th>\n",
              "      <th>Zipcode_Group_Zipcode_Group_5</th>\n",
              "      <th>Zipcode_Group_Zipcode_Group_6</th>\n",
              "      <th>Zipcode_Group_Zipcode_Group_7</th>\n",
              "      <th>Zipcode_Group_Zipcode_Group_8</th>\n",
              "      <th>Zipcode_Group_Zipcode_Group_9</th>\n",
              "    </tr>\n",
              "  </thead>\n",
              "  <tbody>\n",
              "    <tr>\n",
              "      <th>0</th>\n",
              "      <td>221900.0</td>\n",
              "      <td>3</td>\n",
              "      <td>1.00</td>\n",
              "      <td>1180.0</td>\n",
              "      <td>5650.0</td>\n",
              "      <td>1.0</td>\n",
              "      <td>0</td>\n",
              "      <td>7</td>\n",
              "      <td>1180.0</td>\n",
              "      <td>0</td>\n",
              "      <td>63</td>\n",
              "      <td>47.5112</td>\n",
              "      <td>-122.257</td>\n",
              "      <td>1340.0</td>\n",
              "      <td>5650</td>\n",
              "      <td>0</td>\n",
              "      <td>0</td>\n",
              "      <td>1</td>\n",
              "      <td>0</td>\n",
              "      <td>0</td>\n",
              "      <td>0</td>\n",
              "      <td>0</td>\n",
              "      <td>0</td>\n",
              "      <td>0</td>\n",
              "      <td>0</td>\n",
              "      <td>0</td>\n",
              "      <td>0</td>\n",
              "      <td>0</td>\n",
              "      <td>0</td>\n",
              "      <td>0</td>\n",
              "      <td>0</td>\n",
              "    </tr>\n",
              "    <tr>\n",
              "      <th>1</th>\n",
              "      <td>538000.0</td>\n",
              "      <td>3</td>\n",
              "      <td>2.25</td>\n",
              "      <td>2570.0</td>\n",
              "      <td>7242.0</td>\n",
              "      <td>2.0</td>\n",
              "      <td>0</td>\n",
              "      <td>7</td>\n",
              "      <td>2170.0</td>\n",
              "      <td>400</td>\n",
              "      <td>67</td>\n",
              "      <td>47.7210</td>\n",
              "      <td>-122.319</td>\n",
              "      <td>1690.0</td>\n",
              "      <td>7639</td>\n",
              "      <td>26</td>\n",
              "      <td>0</td>\n",
              "      <td>1</td>\n",
              "      <td>0</td>\n",
              "      <td>0</td>\n",
              "      <td>1</td>\n",
              "      <td>0</td>\n",
              "      <td>0</td>\n",
              "      <td>1</td>\n",
              "      <td>0</td>\n",
              "      <td>0</td>\n",
              "      <td>0</td>\n",
              "      <td>0</td>\n",
              "      <td>0</td>\n",
              "      <td>0</td>\n",
              "      <td>0</td>\n",
              "    </tr>\n",
              "    <tr>\n",
              "      <th>2</th>\n",
              "      <td>180000.0</td>\n",
              "      <td>2</td>\n",
              "      <td>1.00</td>\n",
              "      <td>770.0</td>\n",
              "      <td>10000.0</td>\n",
              "      <td>1.0</td>\n",
              "      <td>0</td>\n",
              "      <td>6</td>\n",
              "      <td>770.0</td>\n",
              "      <td>0</td>\n",
              "      <td>85</td>\n",
              "      <td>47.7379</td>\n",
              "      <td>-122.233</td>\n",
              "      <td>2720.0</td>\n",
              "      <td>8062</td>\n",
              "      <td>0</td>\n",
              "      <td>0</td>\n",
              "      <td>1</td>\n",
              "      <td>0</td>\n",
              "      <td>0</td>\n",
              "      <td>0</td>\n",
              "      <td>0</td>\n",
              "      <td>0</td>\n",
              "      <td>1</td>\n",
              "      <td>0</td>\n",
              "      <td>0</td>\n",
              "      <td>0</td>\n",
              "      <td>0</td>\n",
              "      <td>0</td>\n",
              "      <td>0</td>\n",
              "      <td>0</td>\n",
              "    </tr>\n",
              "    <tr>\n",
              "      <th>3</th>\n",
              "      <td>604000.0</td>\n",
              "      <td>4</td>\n",
              "      <td>3.00</td>\n",
              "      <td>1960.0</td>\n",
              "      <td>5000.0</td>\n",
              "      <td>1.0</td>\n",
              "      <td>0</td>\n",
              "      <td>7</td>\n",
              "      <td>1050.0</td>\n",
              "      <td>910</td>\n",
              "      <td>53</td>\n",
              "      <td>47.5208</td>\n",
              "      <td>-122.393</td>\n",
              "      <td>1360.0</td>\n",
              "      <td>5000</td>\n",
              "      <td>0</td>\n",
              "      <td>1</td>\n",
              "      <td>0</td>\n",
              "      <td>0</td>\n",
              "      <td>0</td>\n",
              "      <td>0</td>\n",
              "      <td>0</td>\n",
              "      <td>0</td>\n",
              "      <td>0</td>\n",
              "      <td>1</td>\n",
              "      <td>0</td>\n",
              "      <td>0</td>\n",
              "      <td>0</td>\n",
              "      <td>0</td>\n",
              "      <td>0</td>\n",
              "      <td>0</td>\n",
              "    </tr>\n",
              "    <tr>\n",
              "      <th>4</th>\n",
              "      <td>510000.0</td>\n",
              "      <td>3</td>\n",
              "      <td>2.00</td>\n",
              "      <td>1680.0</td>\n",
              "      <td>8080.0</td>\n",
              "      <td>1.0</td>\n",
              "      <td>0</td>\n",
              "      <td>8</td>\n",
              "      <td>1680.0</td>\n",
              "      <td>0</td>\n",
              "      <td>31</td>\n",
              "      <td>47.6168</td>\n",
              "      <td>-122.045</td>\n",
              "      <td>1800.0</td>\n",
              "      <td>7503</td>\n",
              "      <td>0</td>\n",
              "      <td>0</td>\n",
              "      <td>1</td>\n",
              "      <td>0</td>\n",
              "      <td>0</td>\n",
              "      <td>0</td>\n",
              "      <td>0</td>\n",
              "      <td>0</td>\n",
              "      <td>0</td>\n",
              "      <td>0</td>\n",
              "      <td>1</td>\n",
              "      <td>0</td>\n",
              "      <td>0</td>\n",
              "      <td>0</td>\n",
              "      <td>0</td>\n",
              "      <td>0</td>\n",
              "    </tr>\n",
              "  </tbody>\n",
              "</table>\n",
              "</div>"
            ],
            "text/plain": [
              "   Sale_Price  ...  Zipcode_Group_Zipcode_Group_9\n",
              "0    221900.0  ...                              0\n",
              "1    538000.0  ...                              0\n",
              "2    180000.0  ...                              0\n",
              "3    604000.0  ...                              0\n",
              "4    510000.0  ...                              0\n",
              "\n",
              "[5 rows x 31 columns]"
            ]
          },
          "metadata": {
            "tags": []
          },
          "execution_count": 23
        }
      ]
    },
    {
      "cell_type": "code",
      "metadata": {
        "colab": {
          "base_uri": "https://localhost:8080/",
          "height": 326
        },
        "id": "WcVuZGLqw13y",
        "outputId": "8c344a24-8165-474f-faec-ad323299d938"
      },
      "source": [
        "# scalinf the dataset\n",
        "from sklearn.preprocessing import StandardScaler\n",
        "scaler = StandardScaler()\n",
        "y = data['Sale_Price']\n",
        "x = scaler.fit_transform(data.drop(columns = ['Sale_Price']))\n",
        "x = pd.DataFrame(data = x , columns=data.drop(columns=['Sale_Price']).columns)\n",
        "x.head()"
      ],
      "execution_count": null,
      "outputs": [
        {
          "output_type": "execute_result",
          "data": {
            "text/html": [
              "<div>\n",
              "<style scoped>\n",
              "    .dataframe tbody tr th:only-of-type {\n",
              "        vertical-align: middle;\n",
              "    }\n",
              "\n",
              "    .dataframe tbody tr th {\n",
              "        vertical-align: top;\n",
              "    }\n",
              "\n",
              "    .dataframe thead th {\n",
              "        text-align: right;\n",
              "    }\n",
              "</style>\n",
              "<table border=\"1\" class=\"dataframe\">\n",
              "  <thead>\n",
              "    <tr style=\"text-align: right;\">\n",
              "      <th></th>\n",
              "      <th>No of Bedrooms</th>\n",
              "      <th>No of Bathrooms</th>\n",
              "      <th>Flat Area (in Sqft)</th>\n",
              "      <th>Lot Area (in Sqft)</th>\n",
              "      <th>No of Floors</th>\n",
              "      <th>No of Times Visited</th>\n",
              "      <th>Overall Grade</th>\n",
              "      <th>Area of the House from Basement (in Sqft)</th>\n",
              "      <th>Basement Area (in Sqft)</th>\n",
              "      <th>Age of House (in Years)</th>\n",
              "      <th>Latitude</th>\n",
              "      <th>Longitude</th>\n",
              "      <th>Living Area after Renovation (in Sqft)</th>\n",
              "      <th>Lot Area after Renovation (in Sqft)</th>\n",
              "      <th>Years Since Renovation</th>\n",
              "      <th>Condition_of_the_House_Excellent</th>\n",
              "      <th>Condition_of_the_House_Fair</th>\n",
              "      <th>Condition_of_the_House_Good</th>\n",
              "      <th>Condition_of_the_House_Okay</th>\n",
              "      <th>Ever_Renovated_Yes</th>\n",
              "      <th>Waterfront_View_Yes</th>\n",
              "      <th>Zipcode_Group_Zipcode_Group_1</th>\n",
              "      <th>Zipcode_Group_Zipcode_Group_2</th>\n",
              "      <th>Zipcode_Group_Zipcode_Group_3</th>\n",
              "      <th>Zipcode_Group_Zipcode_Group_4</th>\n",
              "      <th>Zipcode_Group_Zipcode_Group_5</th>\n",
              "      <th>Zipcode_Group_Zipcode_Group_6</th>\n",
              "      <th>Zipcode_Group_Zipcode_Group_7</th>\n",
              "      <th>Zipcode_Group_Zipcode_Group_8</th>\n",
              "      <th>Zipcode_Group_Zipcode_Group_9</th>\n",
              "    </tr>\n",
              "  </thead>\n",
              "  <tbody>\n",
              "    <tr>\n",
              "      <th>0</th>\n",
              "      <td>-0.398724</td>\n",
              "      <td>-1.447526</td>\n",
              "      <td>-0.979905</td>\n",
              "      <td>-0.228291</td>\n",
              "      <td>-0.915389</td>\n",
              "      <td>-0.30579</td>\n",
              "      <td>-0.563993</td>\n",
              "      <td>-0.734722</td>\n",
              "      <td>-0.658697</td>\n",
              "      <td>0.544734</td>\n",
              "      <td>-0.352576</td>\n",
              "      <td>-0.306226</td>\n",
              "      <td>-0.943307</td>\n",
              "      <td>-0.260741</td>\n",
              "      <td>-0.167463</td>\n",
              "      <td>-0.292306</td>\n",
              "      <td>0.735132</td>\n",
              "      <td>-0.597003</td>\n",
              "      <td>-0.089574</td>\n",
              "      <td>-0.210155</td>\n",
              "      <td>-0.087181</td>\n",
              "      <td>-0.350481</td>\n",
              "      <td>-0.482158</td>\n",
              "      <td>-0.419600</td>\n",
              "      <td>-0.479094</td>\n",
              "      <td>-0.214086</td>\n",
              "      <td>-0.287712</td>\n",
              "      <td>-0.112274</td>\n",
              "      <td>-0.16885</td>\n",
              "      <td>-0.048158</td>\n",
              "    </tr>\n",
              "    <tr>\n",
              "      <th>1</th>\n",
              "      <td>-0.398724</td>\n",
              "      <td>0.175684</td>\n",
              "      <td>0.533718</td>\n",
              "      <td>-0.189858</td>\n",
              "      <td>0.936817</td>\n",
              "      <td>-0.30579</td>\n",
              "      <td>-0.563993</td>\n",
              "      <td>0.460990</td>\n",
              "      <td>0.245134</td>\n",
              "      <td>0.680915</td>\n",
              "      <td>1.161645</td>\n",
              "      <td>-0.746479</td>\n",
              "      <td>-0.432664</td>\n",
              "      <td>-0.187900</td>\n",
              "      <td>4.757239</td>\n",
              "      <td>-0.292306</td>\n",
              "      <td>0.735132</td>\n",
              "      <td>-0.597003</td>\n",
              "      <td>-0.089574</td>\n",
              "      <td>4.758385</td>\n",
              "      <td>-0.087181</td>\n",
              "      <td>-0.350481</td>\n",
              "      <td>2.074011</td>\n",
              "      <td>-0.419600</td>\n",
              "      <td>-0.479094</td>\n",
              "      <td>-0.214086</td>\n",
              "      <td>-0.287712</td>\n",
              "      <td>-0.112274</td>\n",
              "      <td>-0.16885</td>\n",
              "      <td>-0.048158</td>\n",
              "    </tr>\n",
              "    <tr>\n",
              "      <th>2</th>\n",
              "      <td>-1.474115</td>\n",
              "      <td>-1.447526</td>\n",
              "      <td>-1.426369</td>\n",
              "      <td>-0.123276</td>\n",
              "      <td>-0.915389</td>\n",
              "      <td>-0.30579</td>\n",
              "      <td>-1.468566</td>\n",
              "      <td>-1.229916</td>\n",
              "      <td>-0.658697</td>\n",
              "      <td>1.293731</td>\n",
              "      <td>1.283619</td>\n",
              "      <td>-0.135806</td>\n",
              "      <td>1.070082</td>\n",
              "      <td>-0.172409</td>\n",
              "      <td>-0.167463</td>\n",
              "      <td>-0.292306</td>\n",
              "      <td>0.735132</td>\n",
              "      <td>-0.597003</td>\n",
              "      <td>-0.089574</td>\n",
              "      <td>-0.210155</td>\n",
              "      <td>-0.087181</td>\n",
              "      <td>-0.350481</td>\n",
              "      <td>2.074011</td>\n",
              "      <td>-0.419600</td>\n",
              "      <td>-0.479094</td>\n",
              "      <td>-0.214086</td>\n",
              "      <td>-0.287712</td>\n",
              "      <td>-0.112274</td>\n",
              "      <td>-0.16885</td>\n",
              "      <td>-0.048158</td>\n",
              "    </tr>\n",
              "    <tr>\n",
              "      <th>3</th>\n",
              "      <td>0.676667</td>\n",
              "      <td>1.149611</td>\n",
              "      <td>-0.130534</td>\n",
              "      <td>-0.243983</td>\n",
              "      <td>-0.915389</td>\n",
              "      <td>-0.30579</td>\n",
              "      <td>-0.563993</td>\n",
              "      <td>-0.891735</td>\n",
              "      <td>1.397518</td>\n",
              "      <td>0.204281</td>\n",
              "      <td>-0.283288</td>\n",
              "      <td>-1.271941</td>\n",
              "      <td>-0.914127</td>\n",
              "      <td>-0.284546</td>\n",
              "      <td>-0.167463</td>\n",
              "      <td>3.421068</td>\n",
              "      <td>-1.360300</td>\n",
              "      <td>-0.597003</td>\n",
              "      <td>-0.089574</td>\n",
              "      <td>-0.210155</td>\n",
              "      <td>-0.087181</td>\n",
              "      <td>-0.350481</td>\n",
              "      <td>-0.482158</td>\n",
              "      <td>2.383223</td>\n",
              "      <td>-0.479094</td>\n",
              "      <td>-0.214086</td>\n",
              "      <td>-0.287712</td>\n",
              "      <td>-0.112274</td>\n",
              "      <td>-0.16885</td>\n",
              "      <td>-0.048158</td>\n",
              "    </tr>\n",
              "    <tr>\n",
              "      <th>4</th>\n",
              "      <td>-0.398724</td>\n",
              "      <td>-0.148958</td>\n",
              "      <td>-0.435436</td>\n",
              "      <td>-0.169628</td>\n",
              "      <td>-0.915389</td>\n",
              "      <td>-0.30579</td>\n",
              "      <td>0.340581</td>\n",
              "      <td>-0.130827</td>\n",
              "      <td>-0.658697</td>\n",
              "      <td>-0.544715</td>\n",
              "      <td>0.409587</td>\n",
              "      <td>1.199152</td>\n",
              "      <td>-0.272177</td>\n",
              "      <td>-0.192880</td>\n",
              "      <td>-0.167463</td>\n",
              "      <td>-0.292306</td>\n",
              "      <td>0.735132</td>\n",
              "      <td>-0.597003</td>\n",
              "      <td>-0.089574</td>\n",
              "      <td>-0.210155</td>\n",
              "      <td>-0.087181</td>\n",
              "      <td>-0.350481</td>\n",
              "      <td>-0.482158</td>\n",
              "      <td>-0.419600</td>\n",
              "      <td>2.087275</td>\n",
              "      <td>-0.214086</td>\n",
              "      <td>-0.287712</td>\n",
              "      <td>-0.112274</td>\n",
              "      <td>-0.16885</td>\n",
              "      <td>-0.048158</td>\n",
              "    </tr>\n",
              "  </tbody>\n",
              "</table>\n",
              "</div>"
            ],
            "text/plain": [
              "   No of Bedrooms  ...  Zipcode_Group_Zipcode_Group_9\n",
              "0       -0.398724  ...                      -0.048158\n",
              "1       -0.398724  ...                      -0.048158\n",
              "2       -1.474115  ...                      -0.048158\n",
              "3        0.676667  ...                      -0.048158\n",
              "4       -0.398724  ...                      -0.048158\n",
              "\n",
              "[5 rows x 30 columns]"
            ]
          },
          "metadata": {
            "tags": []
          },
          "execution_count": 24
        }
      ]
    },
    {
      "cell_type": "code",
      "metadata": {
        "colab": {
          "base_uri": "https://localhost:8080/"
        },
        "id": "BPQJvC5ryapd",
        "outputId": "a4d38b71-4b47-4564-873b-e389d7d24bee"
      },
      "source": [
        "data['Sale_Price'].head()"
      ],
      "execution_count": null,
      "outputs": [
        {
          "output_type": "execute_result",
          "data": {
            "text/plain": [
              "0    221900.0\n",
              "1    538000.0\n",
              "2    180000.0\n",
              "3    604000.0\n",
              "4    510000.0\n",
              "Name: Sale_Price, dtype: float64"
            ]
          },
          "metadata": {
            "tags": []
          },
          "execution_count": 25
        }
      ]
    },
    {
      "cell_type": "code",
      "metadata": {
        "colab": {
          "base_uri": "https://localhost:8080/",
          "height": 1000
        },
        "id": "JoVXsQjTz-A9",
        "outputId": "e2a8d83c-1275-45e8-f5de-55ced72567d6"
      },
      "source": [
        "# checking and removing multicolinearity.\n",
        "x.corr()"
      ],
      "execution_count": null,
      "outputs": [
        {
          "output_type": "execute_result",
          "data": {
            "text/html": [
              "<div>\n",
              "<style scoped>\n",
              "    .dataframe tbody tr th:only-of-type {\n",
              "        vertical-align: middle;\n",
              "    }\n",
              "\n",
              "    .dataframe tbody tr th {\n",
              "        vertical-align: top;\n",
              "    }\n",
              "\n",
              "    .dataframe thead th {\n",
              "        text-align: right;\n",
              "    }\n",
              "</style>\n",
              "<table border=\"1\" class=\"dataframe\">\n",
              "  <thead>\n",
              "    <tr style=\"text-align: right;\">\n",
              "      <th></th>\n",
              "      <th>No of Bedrooms</th>\n",
              "      <th>No of Bathrooms</th>\n",
              "      <th>Flat Area (in Sqft)</th>\n",
              "      <th>Lot Area (in Sqft)</th>\n",
              "      <th>No of Floors</th>\n",
              "      <th>No of Times Visited</th>\n",
              "      <th>Overall Grade</th>\n",
              "      <th>Area of the House from Basement (in Sqft)</th>\n",
              "      <th>Basement Area (in Sqft)</th>\n",
              "      <th>Age of House (in Years)</th>\n",
              "      <th>Latitude</th>\n",
              "      <th>Longitude</th>\n",
              "      <th>Living Area after Renovation (in Sqft)</th>\n",
              "      <th>Lot Area after Renovation (in Sqft)</th>\n",
              "      <th>Years Since Renovation</th>\n",
              "      <th>Condition_of_the_House_Excellent</th>\n",
              "      <th>Condition_of_the_House_Fair</th>\n",
              "      <th>Condition_of_the_House_Good</th>\n",
              "      <th>Condition_of_the_House_Okay</th>\n",
              "      <th>Ever_Renovated_Yes</th>\n",
              "      <th>Waterfront_View_Yes</th>\n",
              "      <th>Zipcode_Group_Zipcode_Group_1</th>\n",
              "      <th>Zipcode_Group_Zipcode_Group_2</th>\n",
              "      <th>Zipcode_Group_Zipcode_Group_3</th>\n",
              "      <th>Zipcode_Group_Zipcode_Group_4</th>\n",
              "      <th>Zipcode_Group_Zipcode_Group_5</th>\n",
              "      <th>Zipcode_Group_Zipcode_Group_6</th>\n",
              "      <th>Zipcode_Group_Zipcode_Group_7</th>\n",
              "      <th>Zipcode_Group_Zipcode_Group_8</th>\n",
              "      <th>Zipcode_Group_Zipcode_Group_9</th>\n",
              "    </tr>\n",
              "  </thead>\n",
              "  <tbody>\n",
              "    <tr>\n",
              "      <th>No of Bedrooms</th>\n",
              "      <td>1.000000</td>\n",
              "      <td>0.515813</td>\n",
              "      <td>0.576628</td>\n",
              "      <td>0.031692</td>\n",
              "      <td>0.175536</td>\n",
              "      <td>0.079575</td>\n",
              "      <td>0.349223</td>\n",
              "      <td>0.477549</td>\n",
              "      <td>0.303294</td>\n",
              "      <td>-0.154113</td>\n",
              "      <td>-0.008708</td>\n",
              "      <td>0.129569</td>\n",
              "      <td>0.391771</td>\n",
              "      <td>0.029264</td>\n",
              "      <td>-0.007198</td>\n",
              "      <td>0.028148</td>\n",
              "      <td>0.004778</td>\n",
              "      <td>-0.008847</td>\n",
              "      <td>-0.051957</td>\n",
              "      <td>0.018573</td>\n",
              "      <td>-0.006578</td>\n",
              "      <td>-0.010603</td>\n",
              "      <td>-0.039342</td>\n",
              "      <td>-0.074129</td>\n",
              "      <td>0.024433</td>\n",
              "      <td>0.019420</td>\n",
              "      <td>0.090177</td>\n",
              "      <td>0.016725</td>\n",
              "      <td>0.102736</td>\n",
              "      <td>0.035694</td>\n",
              "    </tr>\n",
              "    <tr>\n",
              "      <th>No of Bathrooms</th>\n",
              "      <td>0.515813</td>\n",
              "      <td>1.000000</td>\n",
              "      <td>0.754568</td>\n",
              "      <td>0.087732</td>\n",
              "      <td>0.500776</td>\n",
              "      <td>0.187791</td>\n",
              "      <td>0.635638</td>\n",
              "      <td>0.685088</td>\n",
              "      <td>0.283798</td>\n",
              "      <td>-0.505954</td>\n",
              "      <td>0.024570</td>\n",
              "      <td>0.223171</td>\n",
              "      <td>0.568568</td>\n",
              "      <td>0.087226</td>\n",
              "      <td>0.003551</td>\n",
              "      <td>-0.034281</td>\n",
              "      <td>0.190440</td>\n",
              "      <td>-0.166037</td>\n",
              "      <td>-0.077419</td>\n",
              "      <td>0.050282</td>\n",
              "      <td>0.063761</td>\n",
              "      <td>-0.032810</td>\n",
              "      <td>-0.081460</td>\n",
              "      <td>-0.034459</td>\n",
              "      <td>0.084054</td>\n",
              "      <td>0.052804</td>\n",
              "      <td>0.123256</td>\n",
              "      <td>0.037746</td>\n",
              "      <td>0.110012</td>\n",
              "      <td>0.067871</td>\n",
              "    </tr>\n",
              "    <tr>\n",
              "      <th>Flat Area (in Sqft)</th>\n",
              "      <td>0.576628</td>\n",
              "      <td>0.754568</td>\n",
              "      <td>1.000000</td>\n",
              "      <td>0.172721</td>\n",
              "      <td>0.354142</td>\n",
              "      <td>0.284678</td>\n",
              "      <td>0.705725</td>\n",
              "      <td>0.876226</td>\n",
              "      <td>0.435142</td>\n",
              "      <td>-0.318146</td>\n",
              "      <td>0.052538</td>\n",
              "      <td>0.240091</td>\n",
              "      <td>0.756185</td>\n",
              "      <td>0.183223</td>\n",
              "      <td>0.023503</td>\n",
              "      <td>-0.018182</td>\n",
              "      <td>0.102627</td>\n",
              "      <td>-0.083995</td>\n",
              "      <td>-0.065334</td>\n",
              "      <td>0.055111</td>\n",
              "      <td>0.103841</td>\n",
              "      <td>-0.058817</td>\n",
              "      <td>-0.063005</td>\n",
              "      <td>-0.078761</td>\n",
              "      <td>0.086139</td>\n",
              "      <td>0.075978</td>\n",
              "      <td>0.160045</td>\n",
              "      <td>0.051211</td>\n",
              "      <td>0.169576</td>\n",
              "      <td>0.090253</td>\n",
              "    </tr>\n",
              "    <tr>\n",
              "      <th>Lot Area (in Sqft)</th>\n",
              "      <td>0.031692</td>\n",
              "      <td>0.087732</td>\n",
              "      <td>0.172721</td>\n",
              "      <td>1.000000</td>\n",
              "      <td>-0.005162</td>\n",
              "      <td>0.074668</td>\n",
              "      <td>0.102314</td>\n",
              "      <td>0.183492</td>\n",
              "      <td>0.015252</td>\n",
              "      <td>-0.053119</td>\n",
              "      <td>-0.085719</td>\n",
              "      <td>0.229449</td>\n",
              "      <td>0.144507</td>\n",
              "      <td>0.718527</td>\n",
              "      <td>0.013835</td>\n",
              "      <td>-0.014503</td>\n",
              "      <td>-0.011334</td>\n",
              "      <td>0.013033</td>\n",
              "      <td>0.037619</td>\n",
              "      <td>0.007736</td>\n",
              "      <td>0.021605</td>\n",
              "      <td>0.023684</td>\n",
              "      <td>0.052103</td>\n",
              "      <td>-0.041112</td>\n",
              "      <td>-0.012050</td>\n",
              "      <td>0.015320</td>\n",
              "      <td>-0.023270</td>\n",
              "      <td>-0.027419</td>\n",
              "      <td>-0.007025</td>\n",
              "      <td>0.002671</td>\n",
              "    </tr>\n",
              "    <tr>\n",
              "      <th>No of Floors</th>\n",
              "      <td>0.175536</td>\n",
              "      <td>0.500776</td>\n",
              "      <td>0.354142</td>\n",
              "      <td>-0.005162</td>\n",
              "      <td>1.000000</td>\n",
              "      <td>0.029504</td>\n",
              "      <td>0.461368</td>\n",
              "      <td>0.524031</td>\n",
              "      <td>-0.245572</td>\n",
              "      <td>-0.489244</td>\n",
              "      <td>0.049692</td>\n",
              "      <td>0.125620</td>\n",
              "      <td>0.280106</td>\n",
              "      <td>-0.011204</td>\n",
              "      <td>-0.000901</td>\n",
              "      <td>-0.120524</td>\n",
              "      <td>0.317934</td>\n",
              "      <td>-0.257680</td>\n",
              "      <td>-0.055951</td>\n",
              "      <td>0.006297</td>\n",
              "      <td>0.023719</td>\n",
              "      <td>-0.003385</td>\n",
              "      <td>-0.067904</td>\n",
              "      <td>0.079211</td>\n",
              "      <td>0.071786</td>\n",
              "      <td>0.009203</td>\n",
              "      <td>0.069857</td>\n",
              "      <td>0.064981</td>\n",
              "      <td>-0.008633</td>\n",
              "      <td>0.005868</td>\n",
              "    </tr>\n",
              "    <tr>\n",
              "      <th>No of Times Visited</th>\n",
              "      <td>0.079575</td>\n",
              "      <td>0.187791</td>\n",
              "      <td>0.284678</td>\n",
              "      <td>0.074668</td>\n",
              "      <td>0.029504</td>\n",
              "      <td>1.000000</td>\n",
              "      <td>0.223661</td>\n",
              "      <td>0.167812</td>\n",
              "      <td>0.276974</td>\n",
              "      <td>0.053395</td>\n",
              "      <td>0.006162</td>\n",
              "      <td>-0.078453</td>\n",
              "      <td>0.280452</td>\n",
              "      <td>0.072561</td>\n",
              "      <td>0.093546</td>\n",
              "      <td>0.034392</td>\n",
              "      <td>-0.037127</td>\n",
              "      <td>0.022690</td>\n",
              "      <td>-0.018557</td>\n",
              "      <td>0.104051</td>\n",
              "      <td>0.401856</td>\n",
              "      <td>-0.065000</td>\n",
              "      <td>0.004754</td>\n",
              "      <td>0.005905</td>\n",
              "      <td>0.003509</td>\n",
              "      <td>0.024801</td>\n",
              "      <td>0.068144</td>\n",
              "      <td>-0.012548</td>\n",
              "      <td>0.065335</td>\n",
              "      <td>0.012923</td>\n",
              "    </tr>\n",
              "    <tr>\n",
              "      <th>Overall Grade</th>\n",
              "      <td>0.349223</td>\n",
              "      <td>0.635638</td>\n",
              "      <td>0.705725</td>\n",
              "      <td>0.102314</td>\n",
              "      <td>0.461368</td>\n",
              "      <td>0.223661</td>\n",
              "      <td>1.000000</td>\n",
              "      <td>0.705153</td>\n",
              "      <td>0.145232</td>\n",
              "      <td>-0.456711</td>\n",
              "      <td>0.111226</td>\n",
              "      <td>0.201736</td>\n",
              "      <td>0.681362</td>\n",
              "      <td>0.107581</td>\n",
              "      <td>-0.024388</td>\n",
              "      <td>-0.082628</td>\n",
              "      <td>0.197510</td>\n",
              "      <td>-0.140113</td>\n",
              "      <td>-0.090561</td>\n",
              "      <td>0.010010</td>\n",
              "      <td>0.070332</td>\n",
              "      <td>-0.075495</td>\n",
              "      <td>-0.121379</td>\n",
              "      <td>-0.047869</td>\n",
              "      <td>0.151245</td>\n",
              "      <td>0.095613</td>\n",
              "      <td>0.200548</td>\n",
              "      <td>0.077126</td>\n",
              "      <td>0.156952</td>\n",
              "      <td>0.048638</td>\n",
              "    </tr>\n",
              "    <tr>\n",
              "      <th>Area of the House from Basement (in Sqft)</th>\n",
              "      <td>0.477549</td>\n",
              "      <td>0.685088</td>\n",
              "      <td>0.876226</td>\n",
              "      <td>0.183492</td>\n",
              "      <td>0.524031</td>\n",
              "      <td>0.167812</td>\n",
              "      <td>0.705153</td>\n",
              "      <td>1.000000</td>\n",
              "      <td>-0.051825</td>\n",
              "      <td>-0.423848</td>\n",
              "      <td>-0.000819</td>\n",
              "      <td>0.343793</td>\n",
              "      <td>0.731996</td>\n",
              "      <td>0.194106</td>\n",
              "      <td>0.010491</td>\n",
              "      <td>-0.088424</td>\n",
              "      <td>0.194517</td>\n",
              "      <td>-0.142458</td>\n",
              "      <td>-0.058931</td>\n",
              "      <td>0.023202</td>\n",
              "      <td>0.072099</td>\n",
              "      <td>-0.028348</td>\n",
              "      <td>-0.052418</td>\n",
              "      <td>-0.090628</td>\n",
              "      <td>0.086640</td>\n",
              "      <td>0.062267</td>\n",
              "      <td>0.129310</td>\n",
              "      <td>0.029477</td>\n",
              "      <td>0.134021</td>\n",
              "      <td>0.087398</td>\n",
              "    </tr>\n",
              "    <tr>\n",
              "      <th>Basement Area (in Sqft)</th>\n",
              "      <td>0.303294</td>\n",
              "      <td>0.283798</td>\n",
              "      <td>0.435142</td>\n",
              "      <td>0.015252</td>\n",
              "      <td>-0.245572</td>\n",
              "      <td>0.276974</td>\n",
              "      <td>0.145232</td>\n",
              "      <td>-0.051825</td>\n",
              "      <td>1.000000</td>\n",
              "      <td>0.133072</td>\n",
              "      <td>0.110451</td>\n",
              "      <td>-0.144822</td>\n",
              "      <td>0.200302</td>\n",
              "      <td>0.017263</td>\n",
              "      <td>0.029158</td>\n",
              "      <td>0.127876</td>\n",
              "      <td>-0.151347</td>\n",
              "      <td>0.092539</td>\n",
              "      <td>-0.025312</td>\n",
              "      <td>0.070969</td>\n",
              "      <td>0.080595</td>\n",
              "      <td>-0.069149</td>\n",
              "      <td>-0.032302</td>\n",
              "      <td>0.006247</td>\n",
              "      <td>0.016422</td>\n",
              "      <td>0.040662</td>\n",
              "      <td>0.090206</td>\n",
              "      <td>0.051128</td>\n",
              "      <td>0.101159</td>\n",
              "      <td>0.023775</td>\n",
              "    </tr>\n",
              "    <tr>\n",
              "      <th>Age of House (in Years)</th>\n",
              "      <td>-0.154113</td>\n",
              "      <td>-0.505954</td>\n",
              "      <td>-0.318146</td>\n",
              "      <td>-0.053119</td>\n",
              "      <td>-0.489244</td>\n",
              "      <td>0.053395</td>\n",
              "      <td>-0.456711</td>\n",
              "      <td>-0.423848</td>\n",
              "      <td>0.133072</td>\n",
              "      <td>1.000000</td>\n",
              "      <td>0.148083</td>\n",
              "      <td>-0.409515</td>\n",
              "      <td>-0.326307</td>\n",
              "      <td>-0.071016</td>\n",
              "      <td>0.203375</td>\n",
              "      <td>0.244330</td>\n",
              "      <td>-0.391693</td>\n",
              "      <td>0.257392</td>\n",
              "      <td>0.067269</td>\n",
              "      <td>0.225182</td>\n",
              "      <td>0.026149</td>\n",
              "      <td>-0.070111</td>\n",
              "      <td>0.022094</td>\n",
              "      <td>0.095882</td>\n",
              "      <td>-0.056974</td>\n",
              "      <td>-0.009965</td>\n",
              "      <td>0.025718</td>\n",
              "      <td>0.101486</td>\n",
              "      <td>-0.002705</td>\n",
              "      <td>-0.002492</td>\n",
              "    </tr>\n",
              "    <tr>\n",
              "      <th>Latitude</th>\n",
              "      <td>-0.008708</td>\n",
              "      <td>0.024570</td>\n",
              "      <td>0.052538</td>\n",
              "      <td>-0.085719</td>\n",
              "      <td>0.049692</td>\n",
              "      <td>0.006162</td>\n",
              "      <td>0.111226</td>\n",
              "      <td>-0.000819</td>\n",
              "      <td>0.110451</td>\n",
              "      <td>0.148083</td>\n",
              "      <td>1.000000</td>\n",
              "      <td>-0.135551</td>\n",
              "      <td>0.048836</td>\n",
              "      <td>-0.086420</td>\n",
              "      <td>0.019739</td>\n",
              "      <td>0.025835</td>\n",
              "      <td>0.042396</td>\n",
              "      <td>-0.057594</td>\n",
              "      <td>-0.022652</td>\n",
              "      <td>0.029357</td>\n",
              "      <td>-0.014275</td>\n",
              "      <td>-0.199187</td>\n",
              "      <td>0.120400</td>\n",
              "      <td>0.283760</td>\n",
              "      <td>0.249304</td>\n",
              "      <td>0.190199</td>\n",
              "      <td>0.090785</td>\n",
              "      <td>0.056373</td>\n",
              "      <td>0.036085</td>\n",
              "      <td>0.022867</td>\n",
              "    </tr>\n",
              "    <tr>\n",
              "      <th>Longitude</th>\n",
              "      <td>0.129569</td>\n",
              "      <td>0.223171</td>\n",
              "      <td>0.240091</td>\n",
              "      <td>0.229449</td>\n",
              "      <td>0.125620</td>\n",
              "      <td>-0.078453</td>\n",
              "      <td>0.201736</td>\n",
              "      <td>0.343793</td>\n",
              "      <td>-0.144822</td>\n",
              "      <td>-0.409515</td>\n",
              "      <td>-0.135551</td>\n",
              "      <td>1.000000</td>\n",
              "      <td>0.334515</td>\n",
              "      <td>0.254428</td>\n",
              "      <td>-0.055039</td>\n",
              "      <td>-0.085573</td>\n",
              "      <td>0.105440</td>\n",
              "      <td>-0.057924</td>\n",
              "      <td>-0.014857</td>\n",
              "      <td>-0.068416</td>\n",
              "      <td>-0.041927</td>\n",
              "      <td>0.032913</td>\n",
              "      <td>0.024489</td>\n",
              "      <td>-0.117243</td>\n",
              "      <td>0.174136</td>\n",
              "      <td>-0.027225</td>\n",
              "      <td>0.045875</td>\n",
              "      <td>-0.066961</td>\n",
              "      <td>-0.001103</td>\n",
              "      <td>-0.006725</td>\n",
              "    </tr>\n",
              "    <tr>\n",
              "      <th>Living Area after Renovation (in Sqft)</th>\n",
              "      <td>0.391771</td>\n",
              "      <td>0.568568</td>\n",
              "      <td>0.756185</td>\n",
              "      <td>0.144507</td>\n",
              "      <td>0.280106</td>\n",
              "      <td>0.280452</td>\n",
              "      <td>0.681362</td>\n",
              "      <td>0.731996</td>\n",
              "      <td>0.200302</td>\n",
              "      <td>-0.326307</td>\n",
              "      <td>0.048836</td>\n",
              "      <td>0.334515</td>\n",
              "      <td>1.000000</td>\n",
              "      <td>0.183188</td>\n",
              "      <td>-0.008390</td>\n",
              "      <td>-0.061408</td>\n",
              "      <td>0.113869</td>\n",
              "      <td>-0.074463</td>\n",
              "      <td>-0.052419</td>\n",
              "      <td>-0.002756</td>\n",
              "      <td>0.086467</td>\n",
              "      <td>-0.064207</td>\n",
              "      <td>-0.082698</td>\n",
              "      <td>-0.108365</td>\n",
              "      <td>0.108457</td>\n",
              "      <td>0.084243</td>\n",
              "      <td>0.210982</td>\n",
              "      <td>0.048081</td>\n",
              "      <td>0.195508</td>\n",
              "      <td>0.080495</td>\n",
              "    </tr>\n",
              "    <tr>\n",
              "      <th>Lot Area after Renovation (in Sqft)</th>\n",
              "      <td>0.029264</td>\n",
              "      <td>0.087226</td>\n",
              "      <td>0.183223</td>\n",
              "      <td>0.718527</td>\n",
              "      <td>-0.011204</td>\n",
              "      <td>0.072561</td>\n",
              "      <td>0.107581</td>\n",
              "      <td>0.194106</td>\n",
              "      <td>0.017263</td>\n",
              "      <td>-0.071016</td>\n",
              "      <td>-0.086420</td>\n",
              "      <td>0.254428</td>\n",
              "      <td>0.183188</td>\n",
              "      <td>1.000000</td>\n",
              "      <td>0.011289</td>\n",
              "      <td>-0.017666</td>\n",
              "      <td>-0.012674</td>\n",
              "      <td>0.020389</td>\n",
              "      <td>0.022236</td>\n",
              "      <td>0.007910</td>\n",
              "      <td>0.030699</td>\n",
              "      <td>0.028096</td>\n",
              "      <td>0.065514</td>\n",
              "      <td>-0.056258</td>\n",
              "      <td>-0.006145</td>\n",
              "      <td>0.023794</td>\n",
              "      <td>-0.025459</td>\n",
              "      <td>-0.032366</td>\n",
              "      <td>0.000207</td>\n",
              "      <td>0.007974</td>\n",
              "    </tr>\n",
              "    <tr>\n",
              "      <th>Years Since Renovation</th>\n",
              "      <td>-0.007198</td>\n",
              "      <td>0.003551</td>\n",
              "      <td>0.023503</td>\n",
              "      <td>0.013835</td>\n",
              "      <td>-0.000901</td>\n",
              "      <td>0.093546</td>\n",
              "      <td>-0.024388</td>\n",
              "      <td>0.010491</td>\n",
              "      <td>0.029158</td>\n",
              "      <td>0.203375</td>\n",
              "      <td>0.019739</td>\n",
              "      <td>-0.055039</td>\n",
              "      <td>-0.008390</td>\n",
              "      <td>0.011289</td>\n",
              "      <td>1.000000</td>\n",
              "      <td>-0.004618</td>\n",
              "      <td>0.012500</td>\n",
              "      <td>-0.010855</td>\n",
              "      <td>0.000881</td>\n",
              "      <td>0.796854</td>\n",
              "      <td>0.105044</td>\n",
              "      <td>-0.006039</td>\n",
              "      <td>0.004376</td>\n",
              "      <td>0.004296</td>\n",
              "      <td>-0.008853</td>\n",
              "      <td>0.009024</td>\n",
              "      <td>-0.003087</td>\n",
              "      <td>0.019224</td>\n",
              "      <td>0.038785</td>\n",
              "      <td>0.034990</td>\n",
              "    </tr>\n",
              "    <tr>\n",
              "      <th>Condition_of_the_House_Excellent</th>\n",
              "      <td>0.028148</td>\n",
              "      <td>-0.034281</td>\n",
              "      <td>-0.018182</td>\n",
              "      <td>-0.014503</td>\n",
              "      <td>-0.120524</td>\n",
              "      <td>0.034392</td>\n",
              "      <td>-0.082628</td>\n",
              "      <td>-0.088424</td>\n",
              "      <td>0.127876</td>\n",
              "      <td>0.244330</td>\n",
              "      <td>0.025835</td>\n",
              "      <td>-0.085573</td>\n",
              "      <td>-0.061408</td>\n",
              "      <td>-0.017666</td>\n",
              "      <td>-0.004618</td>\n",
              "      <td>1.000000</td>\n",
              "      <td>-0.397624</td>\n",
              "      <td>-0.174508</td>\n",
              "      <td>-0.026183</td>\n",
              "      <td>-0.029839</td>\n",
              "      <td>0.014239</td>\n",
              "      <td>-0.017665</td>\n",
              "      <td>0.020271</td>\n",
              "      <td>0.015100</td>\n",
              "      <td>-0.026260</td>\n",
              "      <td>0.012134</td>\n",
              "      <td>0.029723</td>\n",
              "      <td>0.029176</td>\n",
              "      <td>0.013449</td>\n",
              "      <td>-0.006924</td>\n",
              "    </tr>\n",
              "    <tr>\n",
              "      <th>Condition_of_the_House_Fair</th>\n",
              "      <td>0.004778</td>\n",
              "      <td>0.190440</td>\n",
              "      <td>0.102627</td>\n",
              "      <td>-0.011334</td>\n",
              "      <td>0.317934</td>\n",
              "      <td>-0.037127</td>\n",
              "      <td>0.197510</td>\n",
              "      <td>0.194517</td>\n",
              "      <td>-0.151347</td>\n",
              "      <td>-0.391693</td>\n",
              "      <td>0.042396</td>\n",
              "      <td>0.105440</td>\n",
              "      <td>0.113869</td>\n",
              "      <td>-0.012674</td>\n",
              "      <td>0.012500</td>\n",
              "      <td>-0.397624</td>\n",
              "      <td>1.000000</td>\n",
              "      <td>-0.812102</td>\n",
              "      <td>-0.121848</td>\n",
              "      <td>0.068731</td>\n",
              "      <td>-0.016604</td>\n",
              "      <td>0.021545</td>\n",
              "      <td>0.007924</td>\n",
              "      <td>0.018732</td>\n",
              "      <td>0.046346</td>\n",
              "      <td>-0.014101</td>\n",
              "      <td>-0.030814</td>\n",
              "      <td>-0.010169</td>\n",
              "      <td>-0.069614</td>\n",
              "      <td>-0.008999</td>\n",
              "    </tr>\n",
              "    <tr>\n",
              "      <th>Condition_of_the_House_Good</th>\n",
              "      <td>-0.008847</td>\n",
              "      <td>-0.166037</td>\n",
              "      <td>-0.083995</td>\n",
              "      <td>0.013033</td>\n",
              "      <td>-0.257680</td>\n",
              "      <td>0.022690</td>\n",
              "      <td>-0.140113</td>\n",
              "      <td>-0.142458</td>\n",
              "      <td>0.092539</td>\n",
              "      <td>0.257392</td>\n",
              "      <td>-0.057594</td>\n",
              "      <td>-0.057924</td>\n",
              "      <td>-0.074463</td>\n",
              "      <td>0.020389</td>\n",
              "      <td>-0.010855</td>\n",
              "      <td>-0.174508</td>\n",
              "      <td>-0.812102</td>\n",
              "      <td>1.000000</td>\n",
              "      <td>-0.053476</td>\n",
              "      <td>-0.054416</td>\n",
              "      <td>0.008713</td>\n",
              "      <td>-0.013193</td>\n",
              "      <td>-0.026880</td>\n",
              "      <td>-0.027416</td>\n",
              "      <td>-0.030755</td>\n",
              "      <td>0.009844</td>\n",
              "      <td>0.018961</td>\n",
              "      <td>-0.007285</td>\n",
              "      <td>0.068277</td>\n",
              "      <td>0.015016</td>\n",
              "    </tr>\n",
              "    <tr>\n",
              "      <th>Condition_of_the_House_Okay</th>\n",
              "      <td>-0.051957</td>\n",
              "      <td>-0.077419</td>\n",
              "      <td>-0.065334</td>\n",
              "      <td>0.037619</td>\n",
              "      <td>-0.055951</td>\n",
              "      <td>-0.018557</td>\n",
              "      <td>-0.090561</td>\n",
              "      <td>-0.058931</td>\n",
              "      <td>-0.025312</td>\n",
              "      <td>0.067269</td>\n",
              "      <td>-0.022652</td>\n",
              "      <td>-0.014857</td>\n",
              "      <td>-0.052419</td>\n",
              "      <td>0.022236</td>\n",
              "      <td>0.000881</td>\n",
              "      <td>-0.026183</td>\n",
              "      <td>-0.121848</td>\n",
              "      <td>-0.053476</td>\n",
              "      <td>1.000000</td>\n",
              "      <td>-0.008474</td>\n",
              "      <td>-0.001790</td>\n",
              "      <td>0.005311</td>\n",
              "      <td>0.030027</td>\n",
              "      <td>-0.011312</td>\n",
              "      <td>-0.018857</td>\n",
              "      <td>-0.009000</td>\n",
              "      <td>-0.017932</td>\n",
              "      <td>-0.000663</td>\n",
              "      <td>-0.005608</td>\n",
              "      <td>-0.004314</td>\n",
              "    </tr>\n",
              "    <tr>\n",
              "      <th>Ever_Renovated_Yes</th>\n",
              "      <td>0.018573</td>\n",
              "      <td>0.050282</td>\n",
              "      <td>0.055111</td>\n",
              "      <td>0.007736</td>\n",
              "      <td>0.006297</td>\n",
              "      <td>0.104051</td>\n",
              "      <td>0.010010</td>\n",
              "      <td>0.023202</td>\n",
              "      <td>0.070969</td>\n",
              "      <td>0.225182</td>\n",
              "      <td>0.029357</td>\n",
              "      <td>-0.068416</td>\n",
              "      <td>-0.002756</td>\n",
              "      <td>0.007910</td>\n",
              "      <td>0.796854</td>\n",
              "      <td>-0.029839</td>\n",
              "      <td>0.068731</td>\n",
              "      <td>-0.054416</td>\n",
              "      <td>-0.008474</td>\n",
              "      <td>1.000000</td>\n",
              "      <td>0.093291</td>\n",
              "      <td>-0.014726</td>\n",
              "      <td>0.000938</td>\n",
              "      <td>0.005909</td>\n",
              "      <td>-0.004500</td>\n",
              "      <td>0.011170</td>\n",
              "      <td>0.007896</td>\n",
              "      <td>0.038617</td>\n",
              "      <td>0.056952</td>\n",
              "      <td>0.037735</td>\n",
              "    </tr>\n",
              "    <tr>\n",
              "      <th>Waterfront_View_Yes</th>\n",
              "      <td>-0.006578</td>\n",
              "      <td>0.063761</td>\n",
              "      <td>0.103841</td>\n",
              "      <td>0.021605</td>\n",
              "      <td>0.023719</td>\n",
              "      <td>0.401856</td>\n",
              "      <td>0.070332</td>\n",
              "      <td>0.072099</td>\n",
              "      <td>0.080595</td>\n",
              "      <td>0.026149</td>\n",
              "      <td>-0.014275</td>\n",
              "      <td>-0.041927</td>\n",
              "      <td>0.086467</td>\n",
              "      <td>0.030699</td>\n",
              "      <td>0.105044</td>\n",
              "      <td>0.014239</td>\n",
              "      <td>-0.016604</td>\n",
              "      <td>0.008713</td>\n",
              "      <td>-0.001790</td>\n",
              "      <td>0.093291</td>\n",
              "      <td>1.000000</td>\n",
              "      <td>-0.016847</td>\n",
              "      <td>0.039995</td>\n",
              "      <td>-0.017093</td>\n",
              "      <td>-0.010197</td>\n",
              "      <td>-0.005600</td>\n",
              "      <td>0.009136</td>\n",
              "      <td>-0.009788</td>\n",
              "      <td>0.027633</td>\n",
              "      <td>0.006933</td>\n",
              "    </tr>\n",
              "    <tr>\n",
              "      <th>Zipcode_Group_Zipcode_Group_1</th>\n",
              "      <td>-0.010603</td>\n",
              "      <td>-0.032810</td>\n",
              "      <td>-0.058817</td>\n",
              "      <td>0.023684</td>\n",
              "      <td>-0.003385</td>\n",
              "      <td>-0.065000</td>\n",
              "      <td>-0.075495</td>\n",
              "      <td>-0.028348</td>\n",
              "      <td>-0.069149</td>\n",
              "      <td>-0.070111</td>\n",
              "      <td>-0.199187</td>\n",
              "      <td>0.032913</td>\n",
              "      <td>-0.064207</td>\n",
              "      <td>0.028096</td>\n",
              "      <td>-0.006039</td>\n",
              "      <td>-0.017665</td>\n",
              "      <td>0.021545</td>\n",
              "      <td>-0.013193</td>\n",
              "      <td>0.005311</td>\n",
              "      <td>-0.014726</td>\n",
              "      <td>-0.016847</td>\n",
              "      <td>1.000000</td>\n",
              "      <td>-0.168987</td>\n",
              "      <td>-0.147062</td>\n",
              "      <td>-0.167913</td>\n",
              "      <td>-0.075033</td>\n",
              "      <td>-0.100838</td>\n",
              "      <td>-0.039350</td>\n",
              "      <td>-0.059179</td>\n",
              "      <td>-0.016879</td>\n",
              "    </tr>\n",
              "    <tr>\n",
              "      <th>Zipcode_Group_Zipcode_Group_2</th>\n",
              "      <td>-0.039342</td>\n",
              "      <td>-0.081460</td>\n",
              "      <td>-0.063005</td>\n",
              "      <td>0.052103</td>\n",
              "      <td>-0.067904</td>\n",
              "      <td>0.004754</td>\n",
              "      <td>-0.121379</td>\n",
              "      <td>-0.052418</td>\n",
              "      <td>-0.032302</td>\n",
              "      <td>0.022094</td>\n",
              "      <td>0.120400</td>\n",
              "      <td>0.024489</td>\n",
              "      <td>-0.082698</td>\n",
              "      <td>0.065514</td>\n",
              "      <td>0.004376</td>\n",
              "      <td>0.020271</td>\n",
              "      <td>0.007924</td>\n",
              "      <td>-0.026880</td>\n",
              "      <td>0.030027</td>\n",
              "      <td>0.000938</td>\n",
              "      <td>0.039995</td>\n",
              "      <td>-0.168987</td>\n",
              "      <td>1.000000</td>\n",
              "      <td>-0.202313</td>\n",
              "      <td>-0.230999</td>\n",
              "      <td>-0.103223</td>\n",
              "      <td>-0.138722</td>\n",
              "      <td>-0.054134</td>\n",
              "      <td>-0.081412</td>\n",
              "      <td>-0.023220</td>\n",
              "    </tr>\n",
              "    <tr>\n",
              "      <th>Zipcode_Group_Zipcode_Group_3</th>\n",
              "      <td>-0.074129</td>\n",
              "      <td>-0.034459</td>\n",
              "      <td>-0.078761</td>\n",
              "      <td>-0.041112</td>\n",
              "      <td>0.079211</td>\n",
              "      <td>0.005905</td>\n",
              "      <td>-0.047869</td>\n",
              "      <td>-0.090628</td>\n",
              "      <td>0.006247</td>\n",
              "      <td>0.095882</td>\n",
              "      <td>0.283760</td>\n",
              "      <td>-0.117243</td>\n",
              "      <td>-0.108365</td>\n",
              "      <td>-0.056258</td>\n",
              "      <td>0.004296</td>\n",
              "      <td>0.015100</td>\n",
              "      <td>0.018732</td>\n",
              "      <td>-0.027416</td>\n",
              "      <td>-0.011312</td>\n",
              "      <td>0.005909</td>\n",
              "      <td>-0.017093</td>\n",
              "      <td>-0.147062</td>\n",
              "      <td>-0.202313</td>\n",
              "      <td>1.000000</td>\n",
              "      <td>-0.201028</td>\n",
              "      <td>-0.089831</td>\n",
              "      <td>-0.120724</td>\n",
              "      <td>-0.047110</td>\n",
              "      <td>-0.070849</td>\n",
              "      <td>-0.020207</td>\n",
              "    </tr>\n",
              "    <tr>\n",
              "      <th>Zipcode_Group_Zipcode_Group_4</th>\n",
              "      <td>0.024433</td>\n",
              "      <td>0.084054</td>\n",
              "      <td>0.086139</td>\n",
              "      <td>-0.012050</td>\n",
              "      <td>0.071786</td>\n",
              "      <td>0.003509</td>\n",
              "      <td>0.151245</td>\n",
              "      <td>0.086640</td>\n",
              "      <td>0.016422</td>\n",
              "      <td>-0.056974</td>\n",
              "      <td>0.249304</td>\n",
              "      <td>0.174136</td>\n",
              "      <td>0.108457</td>\n",
              "      <td>-0.006145</td>\n",
              "      <td>-0.008853</td>\n",
              "      <td>-0.026260</td>\n",
              "      <td>0.046346</td>\n",
              "      <td>-0.030755</td>\n",
              "      <td>-0.018857</td>\n",
              "      <td>-0.004500</td>\n",
              "      <td>-0.010197</td>\n",
              "      <td>-0.167913</td>\n",
              "      <td>-0.230999</td>\n",
              "      <td>-0.201028</td>\n",
              "      <td>1.000000</td>\n",
              "      <td>-0.102567</td>\n",
              "      <td>-0.137841</td>\n",
              "      <td>-0.053790</td>\n",
              "      <td>-0.080895</td>\n",
              "      <td>-0.023072</td>\n",
              "    </tr>\n",
              "    <tr>\n",
              "      <th>Zipcode_Group_Zipcode_Group_5</th>\n",
              "      <td>0.019420</td>\n",
              "      <td>0.052804</td>\n",
              "      <td>0.075978</td>\n",
              "      <td>0.015320</td>\n",
              "      <td>0.009203</td>\n",
              "      <td>0.024801</td>\n",
              "      <td>0.095613</td>\n",
              "      <td>0.062267</td>\n",
              "      <td>0.040662</td>\n",
              "      <td>-0.009965</td>\n",
              "      <td>0.190199</td>\n",
              "      <td>-0.027225</td>\n",
              "      <td>0.084243</td>\n",
              "      <td>0.023794</td>\n",
              "      <td>0.009024</td>\n",
              "      <td>0.012134</td>\n",
              "      <td>-0.014101</td>\n",
              "      <td>0.009844</td>\n",
              "      <td>-0.009000</td>\n",
              "      <td>0.011170</td>\n",
              "      <td>-0.005600</td>\n",
              "      <td>-0.075033</td>\n",
              "      <td>-0.103223</td>\n",
              "      <td>-0.089831</td>\n",
              "      <td>-0.102567</td>\n",
              "      <td>1.000000</td>\n",
              "      <td>-0.061595</td>\n",
              "      <td>-0.024036</td>\n",
              "      <td>-0.036148</td>\n",
              "      <td>-0.010310</td>\n",
              "    </tr>\n",
              "    <tr>\n",
              "      <th>Zipcode_Group_Zipcode_Group_6</th>\n",
              "      <td>0.090177</td>\n",
              "      <td>0.123256</td>\n",
              "      <td>0.160045</td>\n",
              "      <td>-0.023270</td>\n",
              "      <td>0.069857</td>\n",
              "      <td>0.068144</td>\n",
              "      <td>0.200548</td>\n",
              "      <td>0.129310</td>\n",
              "      <td>0.090206</td>\n",
              "      <td>0.025718</td>\n",
              "      <td>0.090785</td>\n",
              "      <td>0.045875</td>\n",
              "      <td>0.210982</td>\n",
              "      <td>-0.025459</td>\n",
              "      <td>-0.003087</td>\n",
              "      <td>0.029723</td>\n",
              "      <td>-0.030814</td>\n",
              "      <td>0.018961</td>\n",
              "      <td>-0.017932</td>\n",
              "      <td>0.007896</td>\n",
              "      <td>0.009136</td>\n",
              "      <td>-0.100838</td>\n",
              "      <td>-0.138722</td>\n",
              "      <td>-0.120724</td>\n",
              "      <td>-0.137841</td>\n",
              "      <td>-0.061595</td>\n",
              "      <td>1.000000</td>\n",
              "      <td>-0.032303</td>\n",
              "      <td>-0.048580</td>\n",
              "      <td>-0.013856</td>\n",
              "    </tr>\n",
              "    <tr>\n",
              "      <th>Zipcode_Group_Zipcode_Group_7</th>\n",
              "      <td>0.016725</td>\n",
              "      <td>0.037746</td>\n",
              "      <td>0.051211</td>\n",
              "      <td>-0.027419</td>\n",
              "      <td>0.064981</td>\n",
              "      <td>-0.012548</td>\n",
              "      <td>0.077126</td>\n",
              "      <td>0.029477</td>\n",
              "      <td>0.051128</td>\n",
              "      <td>0.101486</td>\n",
              "      <td>0.056373</td>\n",
              "      <td>-0.066961</td>\n",
              "      <td>0.048081</td>\n",
              "      <td>-0.032366</td>\n",
              "      <td>0.019224</td>\n",
              "      <td>0.029176</td>\n",
              "      <td>-0.010169</td>\n",
              "      <td>-0.007285</td>\n",
              "      <td>-0.000663</td>\n",
              "      <td>0.038617</td>\n",
              "      <td>-0.009788</td>\n",
              "      <td>-0.039350</td>\n",
              "      <td>-0.054134</td>\n",
              "      <td>-0.047110</td>\n",
              "      <td>-0.053790</td>\n",
              "      <td>-0.024036</td>\n",
              "      <td>-0.032303</td>\n",
              "      <td>1.000000</td>\n",
              "      <td>-0.018957</td>\n",
              "      <td>-0.005407</td>\n",
              "    </tr>\n",
              "    <tr>\n",
              "      <th>Zipcode_Group_Zipcode_Group_8</th>\n",
              "      <td>0.102736</td>\n",
              "      <td>0.110012</td>\n",
              "      <td>0.169576</td>\n",
              "      <td>-0.007025</td>\n",
              "      <td>-0.008633</td>\n",
              "      <td>0.065335</td>\n",
              "      <td>0.156952</td>\n",
              "      <td>0.134021</td>\n",
              "      <td>0.101159</td>\n",
              "      <td>-0.002705</td>\n",
              "      <td>0.036085</td>\n",
              "      <td>-0.001103</td>\n",
              "      <td>0.195508</td>\n",
              "      <td>0.000207</td>\n",
              "      <td>0.038785</td>\n",
              "      <td>0.013449</td>\n",
              "      <td>-0.069614</td>\n",
              "      <td>0.068277</td>\n",
              "      <td>-0.005608</td>\n",
              "      <td>0.056952</td>\n",
              "      <td>0.027633</td>\n",
              "      <td>-0.059179</td>\n",
              "      <td>-0.081412</td>\n",
              "      <td>-0.070849</td>\n",
              "      <td>-0.080895</td>\n",
              "      <td>-0.036148</td>\n",
              "      <td>-0.048580</td>\n",
              "      <td>-0.018957</td>\n",
              "      <td>1.000000</td>\n",
              "      <td>-0.008132</td>\n",
              "    </tr>\n",
              "    <tr>\n",
              "      <th>Zipcode_Group_Zipcode_Group_9</th>\n",
              "      <td>0.035694</td>\n",
              "      <td>0.067871</td>\n",
              "      <td>0.090253</td>\n",
              "      <td>0.002671</td>\n",
              "      <td>0.005868</td>\n",
              "      <td>0.012923</td>\n",
              "      <td>0.048638</td>\n",
              "      <td>0.087398</td>\n",
              "      <td>0.023775</td>\n",
              "      <td>-0.002492</td>\n",
              "      <td>0.022867</td>\n",
              "      <td>-0.006725</td>\n",
              "      <td>0.080495</td>\n",
              "      <td>0.007974</td>\n",
              "      <td>0.034990</td>\n",
              "      <td>-0.006924</td>\n",
              "      <td>-0.008999</td>\n",
              "      <td>0.015016</td>\n",
              "      <td>-0.004314</td>\n",
              "      <td>0.037735</td>\n",
              "      <td>0.006933</td>\n",
              "      <td>-0.016879</td>\n",
              "      <td>-0.023220</td>\n",
              "      <td>-0.020207</td>\n",
              "      <td>-0.023072</td>\n",
              "      <td>-0.010310</td>\n",
              "      <td>-0.013856</td>\n",
              "      <td>-0.005407</td>\n",
              "      <td>-0.008132</td>\n",
              "      <td>1.000000</td>\n",
              "    </tr>\n",
              "  </tbody>\n",
              "</table>\n",
              "</div>"
            ],
            "text/plain": [
              "                                           No of Bedrooms  ...  Zipcode_Group_Zipcode_Group_9\n",
              "No of Bedrooms                                   1.000000  ...                       0.035694\n",
              "No of Bathrooms                                  0.515813  ...                       0.067871\n",
              "Flat Area (in Sqft)                              0.576628  ...                       0.090253\n",
              "Lot Area (in Sqft)                               0.031692  ...                       0.002671\n",
              "No of Floors                                     0.175536  ...                       0.005868\n",
              "No of Times Visited                              0.079575  ...                       0.012923\n",
              "Overall Grade                                    0.349223  ...                       0.048638\n",
              "Area of the House from Basement (in Sqft)        0.477549  ...                       0.087398\n",
              "Basement Area (in Sqft)                          0.303294  ...                       0.023775\n",
              "Age of House (in Years)                         -0.154113  ...                      -0.002492\n",
              "Latitude                                        -0.008708  ...                       0.022867\n",
              "Longitude                                        0.129569  ...                      -0.006725\n",
              "Living Area after Renovation (in Sqft)           0.391771  ...                       0.080495\n",
              "Lot Area after Renovation (in Sqft)              0.029264  ...                       0.007974\n",
              "Years Since Renovation                          -0.007198  ...                       0.034990\n",
              "Condition_of_the_House_Excellent                 0.028148  ...                      -0.006924\n",
              "Condition_of_the_House_Fair                      0.004778  ...                      -0.008999\n",
              "Condition_of_the_House_Good                     -0.008847  ...                       0.015016\n",
              "Condition_of_the_House_Okay                     -0.051957  ...                      -0.004314\n",
              "Ever_Renovated_Yes                               0.018573  ...                       0.037735\n",
              "Waterfront_View_Yes                             -0.006578  ...                       0.006933\n",
              "Zipcode_Group_Zipcode_Group_1                   -0.010603  ...                      -0.016879\n",
              "Zipcode_Group_Zipcode_Group_2                   -0.039342  ...                      -0.023220\n",
              "Zipcode_Group_Zipcode_Group_3                   -0.074129  ...                      -0.020207\n",
              "Zipcode_Group_Zipcode_Group_4                    0.024433  ...                      -0.023072\n",
              "Zipcode_Group_Zipcode_Group_5                    0.019420  ...                      -0.010310\n",
              "Zipcode_Group_Zipcode_Group_6                    0.090177  ...                      -0.013856\n",
              "Zipcode_Group_Zipcode_Group_7                    0.016725  ...                      -0.005407\n",
              "Zipcode_Group_Zipcode_Group_8                    0.102736  ...                      -0.008132\n",
              "Zipcode_Group_Zipcode_Group_9                    0.035694  ...                       1.000000\n",
              "\n",
              "[30 rows x 30 columns]"
            ]
          },
          "metadata": {
            "tags": []
          },
          "execution_count": 26
        }
      ]
    },
    {
      "cell_type": "code",
      "metadata": {
        "colab": {
          "base_uri": "https://localhost:8080/"
        },
        "id": "prkpFfmV0Mxd",
        "outputId": "c00724a5-8000-4212-e3ee-3b480e68a69e"
      },
      "source": [
        "k = x.corr()\n",
        "z = [[str(i),str(j)] for i in k.columns for j in k.columns if (k.loc[i,j] > abs(0.5))& (i!=j)]\n",
        "z, len(z)"
      ],
      "execution_count": null,
      "outputs": [
        {
          "output_type": "execute_result",
          "data": {
            "text/plain": [
              "([['No of Bedrooms', 'No of Bathrooms'],\n",
              "  ['No of Bedrooms', 'Flat Area (in Sqft)'],\n",
              "  ['No of Bathrooms', 'No of Bedrooms'],\n",
              "  ['No of Bathrooms', 'Flat Area (in Sqft)'],\n",
              "  ['No of Bathrooms', 'No of Floors'],\n",
              "  ['No of Bathrooms', 'Overall Grade'],\n",
              "  ['No of Bathrooms', 'Area of the House from Basement (in Sqft)'],\n",
              "  ['No of Bathrooms', 'Living Area after Renovation (in Sqft)'],\n",
              "  ['Flat Area (in Sqft)', 'No of Bedrooms'],\n",
              "  ['Flat Area (in Sqft)', 'No of Bathrooms'],\n",
              "  ['Flat Area (in Sqft)', 'Overall Grade'],\n",
              "  ['Flat Area (in Sqft)', 'Area of the House from Basement (in Sqft)'],\n",
              "  ['Flat Area (in Sqft)', 'Living Area after Renovation (in Sqft)'],\n",
              "  ['Lot Area (in Sqft)', 'Lot Area after Renovation (in Sqft)'],\n",
              "  ['No of Floors', 'No of Bathrooms'],\n",
              "  ['No of Floors', 'Area of the House from Basement (in Sqft)'],\n",
              "  ['Overall Grade', 'No of Bathrooms'],\n",
              "  ['Overall Grade', 'Flat Area (in Sqft)'],\n",
              "  ['Overall Grade', 'Area of the House from Basement (in Sqft)'],\n",
              "  ['Overall Grade', 'Living Area after Renovation (in Sqft)'],\n",
              "  ['Area of the House from Basement (in Sqft)', 'No of Bathrooms'],\n",
              "  ['Area of the House from Basement (in Sqft)', 'Flat Area (in Sqft)'],\n",
              "  ['Area of the House from Basement (in Sqft)', 'No of Floors'],\n",
              "  ['Area of the House from Basement (in Sqft)', 'Overall Grade'],\n",
              "  ['Area of the House from Basement (in Sqft)',\n",
              "   'Living Area after Renovation (in Sqft)'],\n",
              "  ['Living Area after Renovation (in Sqft)', 'No of Bathrooms'],\n",
              "  ['Living Area after Renovation (in Sqft)', 'Flat Area (in Sqft)'],\n",
              "  ['Living Area after Renovation (in Sqft)', 'Overall Grade'],\n",
              "  ['Living Area after Renovation (in Sqft)',\n",
              "   'Area of the House from Basement (in Sqft)'],\n",
              "  ['Lot Area after Renovation (in Sqft)', 'Lot Area (in Sqft)'],\n",
              "  ['Years Since Renovation', 'Ever_Renovated_Yes'],\n",
              "  ['Ever_Renovated_Yes', 'Years Since Renovation']],\n",
              " 32)"
            ]
          },
          "metadata": {
            "tags": []
          },
          "execution_count": 27
        }
      ]
    },
    {
      "cell_type": "markdown",
      "metadata": {
        "id": "-QHFwTwzcI9-"
      },
      "source": [
        "**important method for multicolinearity removal**"
      ]
    },
    {
      "cell_type": "code",
      "metadata": {
        "colab": {
          "base_uri": "https://localhost:8080/"
        },
        "id": "QIaEsmu8XqG0",
        "outputId": "b58d79a5-e150-4aa4-e8c2-30af9af1f45a"
      },
      "source": [
        "# now we will use VIF for multicolinearity removal\n",
        "from statsmodels.stats.outliers_influence import  variance_inflation_factor\n",
        "vif_data = x\n",
        "\n",
        "VIF = pd.Series([variance_inflation_factor(vif_data.values, i) for i in range(vif_data.shape[1])], index= vif_data.columns)\n",
        "VIF"
      ],
      "execution_count": null,
      "outputs": [
        {
          "output_type": "stream",
          "text": [
            "/usr/local/lib/python3.7/dist-packages/statsmodels/tools/_testing.py:19: FutureWarning: pandas.util.testing is deprecated. Use the functions in the public API at pandas.testing instead.\n",
            "  import pandas.util.testing as tm\n"
          ],
          "name": "stderr"
        },
        {
          "output_type": "execute_result",
          "data": {
            "text/plain": [
              "No of Bedrooms                                  1.639470\n",
              "No of Bathrooms                                 3.374992\n",
              "Flat Area (in Sqft)                          1481.681648\n",
              "Lot Area (in Sqft)                              2.108079\n",
              "No of Floors                                    2.127787\n",
              "No of Times Visited                             1.432385\n",
              "Overall Grade                                   2.967448\n",
              "Area of the House from Basement (in Sqft)    1205.549115\n",
              "Basement Area (in Sqft)                       345.465009\n",
              "Age of House (in Years)                         2.629539\n",
              "Latitude                                        2.471442\n",
              "Longitude                                       1.672691\n",
              "Living Area after Renovation (in Sqft)          3.068139\n",
              "Lot Area after Renovation (in Sqft)             2.144347\n",
              "Years Since Renovation                          2.788098\n",
              "Condition_of_the_House_Excellent               53.578111\n",
              "Condition_of_the_House_Fair                   166.129930\n",
              "Condition_of_the_House_Good                   141.324536\n",
              "Condition_of_the_House_Okay                     6.703057\n",
              "Ever_Renovated_Yes                              2.955790\n",
              "Waterfront_View_Yes                             1.208439\n",
              "Zipcode_Group_Zipcode_Group_1                   1.538226\n",
              "Zipcode_Group_Zipcode_Group_2                   2.570591\n",
              "Zipcode_Group_Zipcode_Group_3                   2.818579\n",
              "Zipcode_Group_Zipcode_Group_4                   3.193051\n",
              "Zipcode_Group_Zipcode_Group_5                   1.728330\n",
              "Zipcode_Group_Zipcode_Group_6                   2.015017\n",
              "Zipcode_Group_Zipcode_Group_7                   1.233754\n",
              "Zipcode_Group_Zipcode_Group_8                   1.389653\n",
              "Zipcode_Group_Zipcode_Group_9                   1.048579\n",
              "dtype: float64"
            ]
          },
          "metadata": {
            "tags": []
          },
          "execution_count": 28
        }
      ]
    },
    {
      "cell_type": "code",
      "metadata": {
        "colab": {
          "base_uri": "https://localhost:8080/",
          "height": 35
        },
        "id": "6PHEoGArZEeB",
        "outputId": "42da56f6-7c5c-4ebb-b1d9-659d709d517b"
      },
      "source": [
        "VIF[VIF == VIF.max()].index[0]"
      ],
      "execution_count": null,
      "outputs": [
        {
          "output_type": "execute_result",
          "data": {
            "application/vnd.google.colaboratory.intrinsic+json": {
              "type": "string"
            },
            "text/plain": [
              "'Flat Area (in Sqft)'"
            ]
          },
          "metadata": {
            "tags": []
          },
          "execution_count": 29
        }
      ]
    },
    {
      "cell_type": "code",
      "metadata": {
        "id": "qdEVs6GbZvlE"
      },
      "source": [
        "def MC_remover(data):\n",
        "  vif = pd.Series([variance_inflation_factor(data.values, i) for i in range(data.shape[1])], index = data.columns)\n",
        "  if vif.max() >5:\n",
        "    print(vif[vif == vif.max()].index[0], ' has been removed')\n",
        "    data = data.drop(columns = [vif[vif==vif.max()].index[0]])\n",
        "    return data\n",
        "  else:\n",
        "    print('no multicolinearity')\n",
        "    return data"
      ],
      "execution_count": null,
      "outputs": []
    },
    {
      "cell_type": "code",
      "metadata": {
        "colab": {
          "base_uri": "https://localhost:8080/",
          "height": 447
        },
        "id": "R9D9E_8fbf1O",
        "outputId": "6cc84ccc-2825-4c2b-f011-6d1844de51ce"
      },
      "source": [
        "for i in range(7):\n",
        "  vif_data = MC_remover(vif_data)\n",
        "\n",
        "vif_data.head()"
      ],
      "execution_count": null,
      "outputs": [
        {
          "output_type": "stream",
          "text": [
            "Flat Area (in Sqft)  has been removed\n",
            "Condition_of_the_House_Fair  has been removed\n",
            "no multicolinearity\n",
            "no multicolinearity\n",
            "no multicolinearity\n",
            "no multicolinearity\n",
            "no multicolinearity\n"
          ],
          "name": "stdout"
        },
        {
          "output_type": "execute_result",
          "data": {
            "text/html": [
              "<div>\n",
              "<style scoped>\n",
              "    .dataframe tbody tr th:only-of-type {\n",
              "        vertical-align: middle;\n",
              "    }\n",
              "\n",
              "    .dataframe tbody tr th {\n",
              "        vertical-align: top;\n",
              "    }\n",
              "\n",
              "    .dataframe thead th {\n",
              "        text-align: right;\n",
              "    }\n",
              "</style>\n",
              "<table border=\"1\" class=\"dataframe\">\n",
              "  <thead>\n",
              "    <tr style=\"text-align: right;\">\n",
              "      <th></th>\n",
              "      <th>No of Bedrooms</th>\n",
              "      <th>No of Bathrooms</th>\n",
              "      <th>Lot Area (in Sqft)</th>\n",
              "      <th>No of Floors</th>\n",
              "      <th>No of Times Visited</th>\n",
              "      <th>Overall Grade</th>\n",
              "      <th>Area of the House from Basement (in Sqft)</th>\n",
              "      <th>Basement Area (in Sqft)</th>\n",
              "      <th>Age of House (in Years)</th>\n",
              "      <th>Latitude</th>\n",
              "      <th>Longitude</th>\n",
              "      <th>Living Area after Renovation (in Sqft)</th>\n",
              "      <th>Lot Area after Renovation (in Sqft)</th>\n",
              "      <th>Years Since Renovation</th>\n",
              "      <th>Condition_of_the_House_Excellent</th>\n",
              "      <th>Condition_of_the_House_Good</th>\n",
              "      <th>Condition_of_the_House_Okay</th>\n",
              "      <th>Ever_Renovated_Yes</th>\n",
              "      <th>Waterfront_View_Yes</th>\n",
              "      <th>Zipcode_Group_Zipcode_Group_1</th>\n",
              "      <th>Zipcode_Group_Zipcode_Group_2</th>\n",
              "      <th>Zipcode_Group_Zipcode_Group_3</th>\n",
              "      <th>Zipcode_Group_Zipcode_Group_4</th>\n",
              "      <th>Zipcode_Group_Zipcode_Group_5</th>\n",
              "      <th>Zipcode_Group_Zipcode_Group_6</th>\n",
              "      <th>Zipcode_Group_Zipcode_Group_7</th>\n",
              "      <th>Zipcode_Group_Zipcode_Group_8</th>\n",
              "      <th>Zipcode_Group_Zipcode_Group_9</th>\n",
              "    </tr>\n",
              "  </thead>\n",
              "  <tbody>\n",
              "    <tr>\n",
              "      <th>0</th>\n",
              "      <td>-0.398724</td>\n",
              "      <td>-1.447526</td>\n",
              "      <td>-0.228291</td>\n",
              "      <td>-0.915389</td>\n",
              "      <td>-0.30579</td>\n",
              "      <td>-0.563993</td>\n",
              "      <td>-0.734722</td>\n",
              "      <td>-0.658697</td>\n",
              "      <td>0.544734</td>\n",
              "      <td>-0.352576</td>\n",
              "      <td>-0.306226</td>\n",
              "      <td>-0.943307</td>\n",
              "      <td>-0.260741</td>\n",
              "      <td>-0.167463</td>\n",
              "      <td>-0.292306</td>\n",
              "      <td>-0.597003</td>\n",
              "      <td>-0.089574</td>\n",
              "      <td>-0.210155</td>\n",
              "      <td>-0.087181</td>\n",
              "      <td>-0.350481</td>\n",
              "      <td>-0.482158</td>\n",
              "      <td>-0.419600</td>\n",
              "      <td>-0.479094</td>\n",
              "      <td>-0.214086</td>\n",
              "      <td>-0.287712</td>\n",
              "      <td>-0.112274</td>\n",
              "      <td>-0.16885</td>\n",
              "      <td>-0.048158</td>\n",
              "    </tr>\n",
              "    <tr>\n",
              "      <th>1</th>\n",
              "      <td>-0.398724</td>\n",
              "      <td>0.175684</td>\n",
              "      <td>-0.189858</td>\n",
              "      <td>0.936817</td>\n",
              "      <td>-0.30579</td>\n",
              "      <td>-0.563993</td>\n",
              "      <td>0.460990</td>\n",
              "      <td>0.245134</td>\n",
              "      <td>0.680915</td>\n",
              "      <td>1.161645</td>\n",
              "      <td>-0.746479</td>\n",
              "      <td>-0.432664</td>\n",
              "      <td>-0.187900</td>\n",
              "      <td>4.757239</td>\n",
              "      <td>-0.292306</td>\n",
              "      <td>-0.597003</td>\n",
              "      <td>-0.089574</td>\n",
              "      <td>4.758385</td>\n",
              "      <td>-0.087181</td>\n",
              "      <td>-0.350481</td>\n",
              "      <td>2.074011</td>\n",
              "      <td>-0.419600</td>\n",
              "      <td>-0.479094</td>\n",
              "      <td>-0.214086</td>\n",
              "      <td>-0.287712</td>\n",
              "      <td>-0.112274</td>\n",
              "      <td>-0.16885</td>\n",
              "      <td>-0.048158</td>\n",
              "    </tr>\n",
              "    <tr>\n",
              "      <th>2</th>\n",
              "      <td>-1.474115</td>\n",
              "      <td>-1.447526</td>\n",
              "      <td>-0.123276</td>\n",
              "      <td>-0.915389</td>\n",
              "      <td>-0.30579</td>\n",
              "      <td>-1.468566</td>\n",
              "      <td>-1.229916</td>\n",
              "      <td>-0.658697</td>\n",
              "      <td>1.293731</td>\n",
              "      <td>1.283619</td>\n",
              "      <td>-0.135806</td>\n",
              "      <td>1.070082</td>\n",
              "      <td>-0.172409</td>\n",
              "      <td>-0.167463</td>\n",
              "      <td>-0.292306</td>\n",
              "      <td>-0.597003</td>\n",
              "      <td>-0.089574</td>\n",
              "      <td>-0.210155</td>\n",
              "      <td>-0.087181</td>\n",
              "      <td>-0.350481</td>\n",
              "      <td>2.074011</td>\n",
              "      <td>-0.419600</td>\n",
              "      <td>-0.479094</td>\n",
              "      <td>-0.214086</td>\n",
              "      <td>-0.287712</td>\n",
              "      <td>-0.112274</td>\n",
              "      <td>-0.16885</td>\n",
              "      <td>-0.048158</td>\n",
              "    </tr>\n",
              "    <tr>\n",
              "      <th>3</th>\n",
              "      <td>0.676667</td>\n",
              "      <td>1.149611</td>\n",
              "      <td>-0.243983</td>\n",
              "      <td>-0.915389</td>\n",
              "      <td>-0.30579</td>\n",
              "      <td>-0.563993</td>\n",
              "      <td>-0.891735</td>\n",
              "      <td>1.397518</td>\n",
              "      <td>0.204281</td>\n",
              "      <td>-0.283288</td>\n",
              "      <td>-1.271941</td>\n",
              "      <td>-0.914127</td>\n",
              "      <td>-0.284546</td>\n",
              "      <td>-0.167463</td>\n",
              "      <td>3.421068</td>\n",
              "      <td>-0.597003</td>\n",
              "      <td>-0.089574</td>\n",
              "      <td>-0.210155</td>\n",
              "      <td>-0.087181</td>\n",
              "      <td>-0.350481</td>\n",
              "      <td>-0.482158</td>\n",
              "      <td>2.383223</td>\n",
              "      <td>-0.479094</td>\n",
              "      <td>-0.214086</td>\n",
              "      <td>-0.287712</td>\n",
              "      <td>-0.112274</td>\n",
              "      <td>-0.16885</td>\n",
              "      <td>-0.048158</td>\n",
              "    </tr>\n",
              "    <tr>\n",
              "      <th>4</th>\n",
              "      <td>-0.398724</td>\n",
              "      <td>-0.148958</td>\n",
              "      <td>-0.169628</td>\n",
              "      <td>-0.915389</td>\n",
              "      <td>-0.30579</td>\n",
              "      <td>0.340581</td>\n",
              "      <td>-0.130827</td>\n",
              "      <td>-0.658697</td>\n",
              "      <td>-0.544715</td>\n",
              "      <td>0.409587</td>\n",
              "      <td>1.199152</td>\n",
              "      <td>-0.272177</td>\n",
              "      <td>-0.192880</td>\n",
              "      <td>-0.167463</td>\n",
              "      <td>-0.292306</td>\n",
              "      <td>-0.597003</td>\n",
              "      <td>-0.089574</td>\n",
              "      <td>-0.210155</td>\n",
              "      <td>-0.087181</td>\n",
              "      <td>-0.350481</td>\n",
              "      <td>-0.482158</td>\n",
              "      <td>-0.419600</td>\n",
              "      <td>2.087275</td>\n",
              "      <td>-0.214086</td>\n",
              "      <td>-0.287712</td>\n",
              "      <td>-0.112274</td>\n",
              "      <td>-0.16885</td>\n",
              "      <td>-0.048158</td>\n",
              "    </tr>\n",
              "  </tbody>\n",
              "</table>\n",
              "</div>"
            ],
            "text/plain": [
              "   No of Bedrooms  ...  Zipcode_Group_Zipcode_Group_9\n",
              "0       -0.398724  ...                      -0.048158\n",
              "1       -0.398724  ...                      -0.048158\n",
              "2       -1.474115  ...                      -0.048158\n",
              "3        0.676667  ...                      -0.048158\n",
              "4       -0.398724  ...                      -0.048158\n",
              "\n",
              "[5 rows x 28 columns]"
            ]
          },
          "metadata": {
            "tags": []
          },
          "execution_count": 31
        }
      ]
    },
    {
      "cell_type": "code",
      "metadata": {
        "colab": {
          "base_uri": "https://localhost:8080/"
        },
        "id": "N8GerUzRcXZg",
        "outputId": "4b525545-940d-46af-c7e1-7dd33a272a3b"
      },
      "source": [
        "# calculating VIF for remaning columns\n",
        "vif = pd.Series([variance_inflation_factor(vif_data.values, i) for i in range(vif_data.shape[1])], index = vif_data.columns)\n",
        "vif, len(vif_data.columns)"
      ],
      "execution_count": null,
      "outputs": [
        {
          "output_type": "execute_result",
          "data": {
            "text/plain": [
              "(No of Bedrooms                               1.638990\n",
              " No of Bathrooms                              3.373805\n",
              " Lot Area (in Sqft)                           2.107495\n",
              " No of Floors                                 2.127703\n",
              " No of Times Visited                          1.432363\n",
              " Overall Grade                                2.956967\n",
              " Area of the House from Basement (in Sqft)    4.580042\n",
              " Basement Area (in Sqft)                      1.974981\n",
              " Age of House (in Years)                      2.626504\n",
              " Latitude                                     2.471343\n",
              " Longitude                                    1.672667\n",
              " Living Area after Renovation (in Sqft)       3.063886\n",
              " Lot Area after Renovation (in Sqft)          2.144068\n",
              " Years Since Renovation                       2.788064\n",
              " Condition_of_the_House_Excellent             1.206487\n",
              " Condition_of_the_House_Good                  1.251488\n",
              " Condition_of_the_House_Okay                  1.025386\n",
              " Ever_Renovated_Yes                           2.955539\n",
              " Waterfront_View_Yes                          1.208288\n",
              " Zipcode_Group_Zipcode_Group_1                1.538211\n",
              " Zipcode_Group_Zipcode_Group_2                2.570583\n",
              " Zipcode_Group_Zipcode_Group_3                2.818509\n",
              " Zipcode_Group_Zipcode_Group_4                3.192429\n",
              " Zipcode_Group_Zipcode_Group_5                1.728047\n",
              " Zipcode_Group_Zipcode_Group_6                2.014775\n",
              " Zipcode_Group_Zipcode_Group_7                1.233626\n",
              " Zipcode_Group_Zipcode_Group_8                1.389355\n",
              " Zipcode_Group_Zipcode_Group_9                1.048571\n",
              " dtype: float64, 28)"
            ]
          },
          "metadata": {
            "tags": []
          },
          "execution_count": 32
        }
      ]
    },
    {
      "cell_type": "code",
      "metadata": {
        "colab": {
          "base_uri": "https://localhost:8080/"
        },
        "id": "WR6HC2DqiI_v",
        "outputId": "cf2a96f0-037c-4f67-f909-613648597c0d"
      },
      "source": [
        "# training the model\n",
        "x = vif_data\n",
        "y = data['Sale_Price']\n",
        "from sklearn.model_selection import train_test_split\n",
        "x_train, x_test, y_train, y_test = train_test_split(x,y,test_size= 0.3, random_state=101)\n",
        "\n",
        "x_train.shape, x_test.shape, y_train.shape, y_test.shape"
      ],
      "execution_count": null,
      "outputs": [
        {
          "output_type": "execute_result",
          "data": {
            "text/plain": [
              "((15126, 28), (6483, 28), (15126,), (6483,))"
            ]
          },
          "metadata": {
            "tags": []
          },
          "execution_count": 33
        }
      ]
    },
    {
      "cell_type": "code",
      "metadata": {
        "colab": {
          "base_uri": "https://localhost:8080/"
        },
        "id": "v8A2jmw6ksJ5",
        "outputId": "8095ee4d-85ef-4141-d1aa-f8298d046ad4"
      },
      "source": [
        "from sklearn.linear_model import LinearRegression\n",
        "regressor = LinearRegression(normalize = True) # since we have normalize the data, the value of the intercept will be zero.\n",
        "regressor.fit(x_train,y_train) # this regressor.fit() function implements the gradient descent and the complete procedure over the training data."
      ],
      "execution_count": null,
      "outputs": [
        {
          "output_type": "execute_result",
          "data": {
            "text/plain": [
              "LinearRegression(copy_X=True, fit_intercept=True, n_jobs=None, normalize=True)"
            ]
          },
          "metadata": {
            "tags": []
          },
          "execution_count": 34
        }
      ]
    },
    {
      "cell_type": "code",
      "metadata": {
        "colab": {
          "base_uri": "https://localhost:8080/"
        },
        "id": "erzyLRHilMMU",
        "outputId": "05125f61-efa1-4b41-fdfb-42a238ebdabc"
      },
      "source": [
        "regressor.coef_"
      ],
      "execution_count": null,
      "outputs": [
        {
          "output_type": "execute_result",
          "data": {
            "text/plain": [
              "array([ -3928.66247639,  12028.44560689,  14967.00497585,   2697.55278605,\n",
              "        27220.31313417,  59965.44665815,  80697.80906997,  27729.56715434,\n",
              "        27873.90231343,  21397.40341959, -23854.32640243,  17943.26729788,\n",
              "        -2896.98542901, -10179.085198  ,  14239.3533334 ,   5095.97603572,\n",
              "        -2296.64888137,  14594.33847962,  10761.77007875,  12165.83372082,\n",
              "        33842.29544383,  63269.82875283,  81086.08553213,  50718.63947886,\n",
              "        73274.09568028,  40153.03595158,  67405.70271285,  22113.74944051])"
            ]
          },
          "metadata": {
            "tags": []
          },
          "execution_count": 35
        }
      ]
    },
    {
      "cell_type": "code",
      "metadata": {
        "colab": {
          "base_uri": "https://localhost:8080/"
        },
        "id": "gF4VGye2mKPg",
        "outputId": "19c43f5d-ee86-448b-9661-e633eba953ef"
      },
      "source": [
        "# generating the predictions\n",
        "predictions = regressor.predict(x_test)\n",
        "regressor.score(x_test,y_test) # this function takes the test dataset and internally performs the prediction and calculate R^2 value and accuracy score in case of classification model."
      ],
      "execution_count": null,
      "outputs": [
        {
          "output_type": "execute_result",
          "data": {
            "text/plain": [
              "0.8461987715586199"
            ]
          },
          "metadata": {
            "tags": []
          },
          "execution_count": 36
        }
      ]
    },
    {
      "cell_type": "code",
      "metadata": {
        "id": "b7FIcHFWndAx"
      },
      "source": [
        "# now we will verify different assumptions made by us for linear regression model previously"
      ],
      "execution_count": null,
      "outputs": []
    },
    {
      "cell_type": "markdown",
      "metadata": {
        "id": "Ba19nOGDEIXB"
      },
      "source": [
        "plotting residuals"
      ]
    },
    {
      "cell_type": "code",
      "metadata": {
        "colab": {
          "base_uri": "https://localhost:8080/",
          "height": 415
        },
        "id": "mjjtWMbyEKq_",
        "outputId": "d23ee1d0-7fac-40ba-a75e-4c878ee41f01"
      },
      "source": [
        "residuals = predictions - y_test\n",
        "residual_table = pd.DataFrame({'residuals': residuals,\n",
        "                               'predictions': predictions})\n",
        "residual_table = residual_table.sort_values( by = 'predictions')\n",
        "residual_table"
      ],
      "execution_count": null,
      "outputs": [
        {
          "output_type": "execute_result",
          "data": {
            "text/html": [
              "<div>\n",
              "<style scoped>\n",
              "    .dataframe tbody tr th:only-of-type {\n",
              "        vertical-align: middle;\n",
              "    }\n",
              "\n",
              "    .dataframe tbody tr th {\n",
              "        vertical-align: top;\n",
              "    }\n",
              "\n",
              "    .dataframe thead th {\n",
              "        text-align: right;\n",
              "    }\n",
              "</style>\n",
              "<table border=\"1\" class=\"dataframe\">\n",
              "  <thead>\n",
              "    <tr style=\"text-align: right;\">\n",
              "      <th></th>\n",
              "      <th>residuals</th>\n",
              "      <th>predictions</th>\n",
              "    </tr>\n",
              "  </thead>\n",
              "  <tbody>\n",
              "    <tr>\n",
              "      <th>1147</th>\n",
              "      <td>-226899.922361</td>\n",
              "      <td>-1.518999e+05</td>\n",
              "    </tr>\n",
              "    <tr>\n",
              "      <th>19450</th>\n",
              "      <td>-210795.272576</td>\n",
              "      <td>-6.879527e+04</td>\n",
              "    </tr>\n",
              "    <tr>\n",
              "      <th>4201</th>\n",
              "      <td>-140057.717848</td>\n",
              "      <td>9.942282e+03</td>\n",
              "    </tr>\n",
              "    <tr>\n",
              "      <th>11586</th>\n",
              "      <td>-156956.559744</td>\n",
              "      <td>3.104344e+04</td>\n",
              "    </tr>\n",
              "    <tr>\n",
              "      <th>13714</th>\n",
              "      <td>-145500.198922</td>\n",
              "      <td>3.449980e+04</td>\n",
              "    </tr>\n",
              "    <tr>\n",
              "      <th>...</th>\n",
              "      <td>...</td>\n",
              "      <td>...</td>\n",
              "    </tr>\n",
              "    <tr>\n",
              "      <th>6506</th>\n",
              "      <td>369963.447042</td>\n",
              "      <td>1.499538e+06</td>\n",
              "    </tr>\n",
              "    <tr>\n",
              "      <th>9252</th>\n",
              "      <td>398475.423771</td>\n",
              "      <td>1.528050e+06</td>\n",
              "    </tr>\n",
              "    <tr>\n",
              "      <th>15253</th>\n",
              "      <td>441105.516766</td>\n",
              "      <td>1.570681e+06</td>\n",
              "    </tr>\n",
              "    <tr>\n",
              "      <th>18475</th>\n",
              "      <td>444424.624355</td>\n",
              "      <td>1.574000e+06</td>\n",
              "    </tr>\n",
              "    <tr>\n",
              "      <th>1313</th>\n",
              "      <td>588168.280448</td>\n",
              "      <td>1.717743e+06</td>\n",
              "    </tr>\n",
              "  </tbody>\n",
              "</table>\n",
              "<p>6483 rows × 2 columns</p>\n",
              "</div>"
            ],
            "text/plain": [
              "           residuals   predictions\n",
              "1147  -226899.922361 -1.518999e+05\n",
              "19450 -210795.272576 -6.879527e+04\n",
              "4201  -140057.717848  9.942282e+03\n",
              "11586 -156956.559744  3.104344e+04\n",
              "13714 -145500.198922  3.449980e+04\n",
              "...              ...           ...\n",
              "6506   369963.447042  1.499538e+06\n",
              "9252   398475.423771  1.528050e+06\n",
              "15253  441105.516766  1.570681e+06\n",
              "18475  444424.624355  1.574000e+06\n",
              "1313   588168.280448  1.717743e+06\n",
              "\n",
              "[6483 rows x 2 columns]"
            ]
          },
          "metadata": {
            "tags": []
          },
          "execution_count": 38
        }
      ]
    },
    {
      "cell_type": "code",
      "metadata": {
        "id": "90x8PcG6F9Mj"
      },
      "source": [
        "z = [i for i in range(int(residual_table['predictions'].max()))]\n",
        "k = [0 for i in range(int(residual_table['predictions'].max()))]"
      ],
      "execution_count": null,
      "outputs": []
    },
    {
      "cell_type": "code",
      "metadata": {
        "colab": {
          "base_uri": "https://localhost:8080/",
          "height": 286
        },
        "id": "YYDJ-9SwG2u7",
        "outputId": "dad1bfbc-c0b3-4664-b72a-b4bace4dcf0b"
      },
      "source": [
        "plt.figure(dpi = 130, figsize=(17,7))\n",
        "plt.scatter(residual_table['predictions'], residual_table['residuals'], color = 'red', s=2)\n",
        "plt.plot(z, k, color = 'green', linewidth = 3, label = 'regression line')\n",
        "plt.ylim(-800000,800000)\n",
        "plt.xlabel('fitted points (ordered by predictions)')\n",
        "plt.ylabel('residuals')\n",
        "plt.title('residual plot')\n",
        "plt.legend()\n",
        "plt.show()"
      ],
      "execution_count": null,
      "outputs": [
        {
          "output_type": "display_data",
          "data": {
            "image/png": "[encoded data removed]",
            "text/plain": [
              "<Figure size 2210x910 with 1 Axes>"
            ]
          },
          "metadata": {
            "tags": [],
            "needs_background": "light"
          }
        }
      ]
    },
    {
      "cell_type": "markdown",
      "metadata": {
        "id": "YsPMm90bKdAo"
      },
      "source": [
        "distribution of errors"
      ]
    },
    {
      "cell_type": "code",
      "metadata": {
        "colab": {
          "base_uri": "https://localhost:8080/",
          "height": 471
        },
        "id": "-njWq1bHKa_8",
        "outputId": "7b934fa7-f598-4016-b2d3-96d79b49ee90"
      },
      "source": [
        "plt.figure(dpi = 100, figsize=(10,7))\n",
        "plt.hist(residual_table['residuals'], color = 'red', bins = 200)\n",
        "plt.xlabel('residuals')\n",
        "plt.ylabel('frequency')\n",
        "plt.title('distribution of residuals')\n",
        "plt.show()"
      ],
      "execution_count": null,
      "outputs": [
        {
          "output_type": "display_data",
          "data": {
            "image/png": "[encoded data removed]",
            "text/plain": [
              "<Figure size 1000x700 with 1 Axes>"
            ]
          },
          "metadata": {
            "tags": [],
            "needs_background": "light"
          }
        }
      ]
    },
    {
      "cell_type": "markdown",
      "metadata": {
        "id": "qmebcjCWLQEa"
      },
      "source": [
        "magnitude of the coefficient"
      ]
    },
    {
      "cell_type": "code",
      "metadata": {
        "colab": {
          "base_uri": "https://localhost:8080/",
          "height": 907
        },
        "id": "1tl6wbvlLWWb",
        "outputId": "9c107743-006f-4a72-8fd8-24e6e07a78fd"
      },
      "source": [
        "# using bar graph we will analyze the coefficients\n",
        "coefficients_table = pd.DataFrame({'column': x_train.columns,\n",
        "                                   'coefficients': regressor.coef_})\n",
        "coefficients_table = coefficients_table.sort_values(by = 'coefficients')\n",
        "coefficients_table"
      ],
      "execution_count": null,
      "outputs": [
        {
          "output_type": "execute_result",
          "data": {
            "text/html": [
              "<div>\n",
              "<style scoped>\n",
              "    .dataframe tbody tr th:only-of-type {\n",
              "        vertical-align: middle;\n",
              "    }\n",
              "\n",
              "    .dataframe tbody tr th {\n",
              "        vertical-align: top;\n",
              "    }\n",
              "\n",
              "    .dataframe thead th {\n",
              "        text-align: right;\n",
              "    }\n",
              "</style>\n",
              "<table border=\"1\" class=\"dataframe\">\n",
              "  <thead>\n",
              "    <tr style=\"text-align: right;\">\n",
              "      <th></th>\n",
              "      <th>column</th>\n",
              "      <th>coefficients</th>\n",
              "    </tr>\n",
              "  </thead>\n",
              "  <tbody>\n",
              "    <tr>\n",
              "      <th>10</th>\n",
              "      <td>Longitude</td>\n",
              "      <td>-23854.326402</td>\n",
              "    </tr>\n",
              "    <tr>\n",
              "      <th>13</th>\n",
              "      <td>Years Since Renovation</td>\n",
              "      <td>-10179.085198</td>\n",
              "    </tr>\n",
              "    <tr>\n",
              "      <th>0</th>\n",
              "      <td>No of Bedrooms</td>\n",
              "      <td>-3928.662476</td>\n",
              "    </tr>\n",
              "    <tr>\n",
              "      <th>12</th>\n",
              "      <td>Lot Area after Renovation (in Sqft)</td>\n",
              "      <td>-2896.985429</td>\n",
              "    </tr>\n",
              "    <tr>\n",
              "      <th>16</th>\n",
              "      <td>Condition_of_the_House_Okay</td>\n",
              "      <td>-2296.648881</td>\n",
              "    </tr>\n",
              "    <tr>\n",
              "      <th>3</th>\n",
              "      <td>No of Floors</td>\n",
              "      <td>2697.552786</td>\n",
              "    </tr>\n",
              "    <tr>\n",
              "      <th>15</th>\n",
              "      <td>Condition_of_the_House_Good</td>\n",
              "      <td>5095.976036</td>\n",
              "    </tr>\n",
              "    <tr>\n",
              "      <th>18</th>\n",
              "      <td>Waterfront_View_Yes</td>\n",
              "      <td>10761.770079</td>\n",
              "    </tr>\n",
              "    <tr>\n",
              "      <th>1</th>\n",
              "      <td>No of Bathrooms</td>\n",
              "      <td>12028.445607</td>\n",
              "    </tr>\n",
              "    <tr>\n",
              "      <th>19</th>\n",
              "      <td>Zipcode_Group_Zipcode_Group_1</td>\n",
              "      <td>12165.833721</td>\n",
              "    </tr>\n",
              "    <tr>\n",
              "      <th>14</th>\n",
              "      <td>Condition_of_the_House_Excellent</td>\n",
              "      <td>14239.353333</td>\n",
              "    </tr>\n",
              "    <tr>\n",
              "      <th>17</th>\n",
              "      <td>Ever_Renovated_Yes</td>\n",
              "      <td>14594.338480</td>\n",
              "    </tr>\n",
              "    <tr>\n",
              "      <th>2</th>\n",
              "      <td>Lot Area (in Sqft)</td>\n",
              "      <td>14967.004976</td>\n",
              "    </tr>\n",
              "    <tr>\n",
              "      <th>11</th>\n",
              "      <td>Living Area after Renovation (in Sqft)</td>\n",
              "      <td>17943.267298</td>\n",
              "    </tr>\n",
              "    <tr>\n",
              "      <th>9</th>\n",
              "      <td>Latitude</td>\n",
              "      <td>21397.403420</td>\n",
              "    </tr>\n",
              "    <tr>\n",
              "      <th>27</th>\n",
              "      <td>Zipcode_Group_Zipcode_Group_9</td>\n",
              "      <td>22113.749441</td>\n",
              "    </tr>\n",
              "    <tr>\n",
              "      <th>4</th>\n",
              "      <td>No of Times Visited</td>\n",
              "      <td>27220.313134</td>\n",
              "    </tr>\n",
              "    <tr>\n",
              "      <th>7</th>\n",
              "      <td>Basement Area (in Sqft)</td>\n",
              "      <td>27729.567154</td>\n",
              "    </tr>\n",
              "    <tr>\n",
              "      <th>8</th>\n",
              "      <td>Age of House (in Years)</td>\n",
              "      <td>27873.902313</td>\n",
              "    </tr>\n",
              "    <tr>\n",
              "      <th>20</th>\n",
              "      <td>Zipcode_Group_Zipcode_Group_2</td>\n",
              "      <td>33842.295444</td>\n",
              "    </tr>\n",
              "    <tr>\n",
              "      <th>25</th>\n",
              "      <td>Zipcode_Group_Zipcode_Group_7</td>\n",
              "      <td>40153.035952</td>\n",
              "    </tr>\n",
              "    <tr>\n",
              "      <th>23</th>\n",
              "      <td>Zipcode_Group_Zipcode_Group_5</td>\n",
              "      <td>50718.639479</td>\n",
              "    </tr>\n",
              "    <tr>\n",
              "      <th>5</th>\n",
              "      <td>Overall Grade</td>\n",
              "      <td>59965.446658</td>\n",
              "    </tr>\n",
              "    <tr>\n",
              "      <th>21</th>\n",
              "      <td>Zipcode_Group_Zipcode_Group_3</td>\n",
              "      <td>63269.828753</td>\n",
              "    </tr>\n",
              "    <tr>\n",
              "      <th>26</th>\n",
              "      <td>Zipcode_Group_Zipcode_Group_8</td>\n",
              "      <td>67405.702713</td>\n",
              "    </tr>\n",
              "    <tr>\n",
              "      <th>24</th>\n",
              "      <td>Zipcode_Group_Zipcode_Group_6</td>\n",
              "      <td>73274.095680</td>\n",
              "    </tr>\n",
              "    <tr>\n",
              "      <th>6</th>\n",
              "      <td>Area of the House from Basement (in Sqft)</td>\n",
              "      <td>80697.809070</td>\n",
              "    </tr>\n",
              "    <tr>\n",
              "      <th>22</th>\n",
              "      <td>Zipcode_Group_Zipcode_Group_4</td>\n",
              "      <td>81086.085532</td>\n",
              "    </tr>\n",
              "  </tbody>\n",
              "</table>\n",
              "</div>"
            ],
            "text/plain": [
              "                                       column  coefficients\n",
              "10                                  Longitude -23854.326402\n",
              "13                     Years Since Renovation -10179.085198\n",
              "0                              No of Bedrooms  -3928.662476\n",
              "12        Lot Area after Renovation (in Sqft)  -2896.985429\n",
              "16                Condition_of_the_House_Okay  -2296.648881\n",
              "3                                No of Floors   2697.552786\n",
              "15                Condition_of_the_House_Good   5095.976036\n",
              "18                        Waterfront_View_Yes  10761.770079\n",
              "1                             No of Bathrooms  12028.445607\n",
              "19              Zipcode_Group_Zipcode_Group_1  12165.833721\n",
              "14           Condition_of_the_House_Excellent  14239.353333\n",
              "17                         Ever_Renovated_Yes  14594.338480\n",
              "2                          Lot Area (in Sqft)  14967.004976\n",
              "11     Living Area after Renovation (in Sqft)  17943.267298\n",
              "9                                    Latitude  21397.403420\n",
              "27              Zipcode_Group_Zipcode_Group_9  22113.749441\n",
              "4                         No of Times Visited  27220.313134\n",
              "7                     Basement Area (in Sqft)  27729.567154\n",
              "8                     Age of House (in Years)  27873.902313\n",
              "20              Zipcode_Group_Zipcode_Group_2  33842.295444\n",
              "25              Zipcode_Group_Zipcode_Group_7  40153.035952\n",
              "23              Zipcode_Group_Zipcode_Group_5  50718.639479\n",
              "5                               Overall Grade  59965.446658\n",
              "21              Zipcode_Group_Zipcode_Group_3  63269.828753\n",
              "26              Zipcode_Group_Zipcode_Group_8  67405.702713\n",
              "24              Zipcode_Group_Zipcode_Group_6  73274.095680\n",
              "6   Area of the House from Basement (in Sqft)  80697.809070\n",
              "22              Zipcode_Group_Zipcode_Group_4  81086.085532"
            ]
          },
          "metadata": {
            "tags": []
          },
          "execution_count": 42
        }
      ]
    },
    {
      "cell_type": "code",
      "metadata": {
        "colab": {
          "base_uri": "https://localhost:8080/",
          "height": 367
        },
        "id": "e-gJvmG6OFbJ",
        "outputId": "9e12d1aa-8995-44be-eb5f-ca9b062d2202"
      },
      "source": [
        "plt.figure(figsize=(8,6), dpi = 120)\n",
        "x = coefficients_table['column']\n",
        "y = coefficients_table['coefficients']\n",
        "plt.barh(x,y)\n",
        "plt.xlabel('coefficients')\n",
        "plt.ylabel('variables')\n",
        "plt.title('normalized coefficient plot')\n",
        "plt.show()"
      ],
      "execution_count": null,
      "outputs": [
        {
          "output_type": "display_data",
          "data": {
            "image/png": "[encoded data removed]",
            "text/plain": [
              "<Figure size 960x720 with 1 Axes>"
            ]
          },
          "metadata": {
            "tags": [],
            "needs_background": "light"
          }
        }
      ]
    },
    {
      "cell_type": "markdown",
      "metadata": {
        "id": "5VXeNFc9f1rD"
      },
      "source": [
        "feature engineering"
      ]
    },
    {
      "cell_type": "code",
      "metadata": {
        "id": "4QrEzd91dmoR"
      },
      "source": [
        "data = pd.read_csv('/content/1. Regression - Module - (Housing Prices).csv')"
      ],
      "execution_count": null,
      "outputs": []
    },
    {
      "cell_type": "code",
      "metadata": {
        "colab": {
          "base_uri": "https://localhost:8080/",
          "height": 499
        },
        "id": "fpNc3-MdgO4Y",
        "outputId": "a693eabe-1f85-4d87-b5c8-cecc2a911b35"
      },
      "source": [
        "data.head()"
      ],
      "execution_count": null,
      "outputs": [
        {
          "output_type": "execute_result",
          "data": {
            "text/html": [
              "<div>\n",
              "<style scoped>\n",
              "    .dataframe tbody tr th:only-of-type {\n",
              "        vertical-align: middle;\n",
              "    }\n",
              "\n",
              "    .dataframe tbody tr th {\n",
              "        vertical-align: top;\n",
              "    }\n",
              "\n",
              "    .dataframe thead th {\n",
              "        text-align: right;\n",
              "    }\n",
              "</style>\n",
              "<table border=\"1\" class=\"dataframe\">\n",
              "  <thead>\n",
              "    <tr style=\"text-align: right;\">\n",
              "      <th></th>\n",
              "      <th>ID</th>\n",
              "      <th>Date House was Sold</th>\n",
              "      <th>Sale Price</th>\n",
              "      <th>No of Bedrooms</th>\n",
              "      <th>No of Bathrooms</th>\n",
              "      <th>Flat Area (in Sqft)</th>\n",
              "      <th>Lot Area (in Sqft)</th>\n",
              "      <th>No of Floors</th>\n",
              "      <th>Waterfront View</th>\n",
              "      <th>No of Times Visited</th>\n",
              "      <th>Condition of the House</th>\n",
              "      <th>Overall Grade</th>\n",
              "      <th>Area of the House from Basement (in Sqft)</th>\n",
              "      <th>Basement Area (in Sqft)</th>\n",
              "      <th>Age of House (in Years)</th>\n",
              "      <th>Renovated Year</th>\n",
              "      <th>Zipcode</th>\n",
              "      <th>Latitude</th>\n",
              "      <th>Longitude</th>\n",
              "      <th>Living Area after Renovation (in Sqft)</th>\n",
              "      <th>Lot Area after Renovation (in Sqft)</th>\n",
              "    </tr>\n",
              "  </thead>\n",
              "  <tbody>\n",
              "    <tr>\n",
              "      <th>0</th>\n",
              "      <td>7129300520</td>\n",
              "      <td>14 October 2017</td>\n",
              "      <td>221900.0</td>\n",
              "      <td>3</td>\n",
              "      <td>1.00</td>\n",
              "      <td>1180.0</td>\n",
              "      <td>5650.0</td>\n",
              "      <td>1.0</td>\n",
              "      <td>No</td>\n",
              "      <td>None</td>\n",
              "      <td>Fair</td>\n",
              "      <td>7</td>\n",
              "      <td>1180.0</td>\n",
              "      <td>0</td>\n",
              "      <td>63</td>\n",
              "      <td>0</td>\n",
              "      <td>98178.0</td>\n",
              "      <td>47.5112</td>\n",
              "      <td>-122.257</td>\n",
              "      <td>1340.0</td>\n",
              "      <td>5650</td>\n",
              "    </tr>\n",
              "    <tr>\n",
              "      <th>1</th>\n",
              "      <td>6414100192</td>\n",
              "      <td>14 December 2017</td>\n",
              "      <td>538000.0</td>\n",
              "      <td>3</td>\n",
              "      <td>2.25</td>\n",
              "      <td>2570.0</td>\n",
              "      <td>7242.0</td>\n",
              "      <td>2.0</td>\n",
              "      <td>No</td>\n",
              "      <td>None</td>\n",
              "      <td>Fair</td>\n",
              "      <td>7</td>\n",
              "      <td>2170.0</td>\n",
              "      <td>400</td>\n",
              "      <td>67</td>\n",
              "      <td>1991</td>\n",
              "      <td>98125.0</td>\n",
              "      <td>47.7210</td>\n",
              "      <td>-122.319</td>\n",
              "      <td>1690.0</td>\n",
              "      <td>7639</td>\n",
              "    </tr>\n",
              "    <tr>\n",
              "      <th>2</th>\n",
              "      <td>5631500400</td>\n",
              "      <td>15 February 2016</td>\n",
              "      <td>180000.0</td>\n",
              "      <td>2</td>\n",
              "      <td>1.00</td>\n",
              "      <td>770.0</td>\n",
              "      <td>10000.0</td>\n",
              "      <td>1.0</td>\n",
              "      <td>No</td>\n",
              "      <td>None</td>\n",
              "      <td>Fair</td>\n",
              "      <td>6</td>\n",
              "      <td>770.0</td>\n",
              "      <td>0</td>\n",
              "      <td>85</td>\n",
              "      <td>0</td>\n",
              "      <td>98028.0</td>\n",
              "      <td>47.7379</td>\n",
              "      <td>-122.233</td>\n",
              "      <td>2720.0</td>\n",
              "      <td>8062</td>\n",
              "    </tr>\n",
              "    <tr>\n",
              "      <th>3</th>\n",
              "      <td>2487200875</td>\n",
              "      <td>14 December 2017</td>\n",
              "      <td>604000.0</td>\n",
              "      <td>4</td>\n",
              "      <td>3.00</td>\n",
              "      <td>1960.0</td>\n",
              "      <td>5000.0</td>\n",
              "      <td>1.0</td>\n",
              "      <td>No</td>\n",
              "      <td>None</td>\n",
              "      <td>Excellent</td>\n",
              "      <td>7</td>\n",
              "      <td>1050.0</td>\n",
              "      <td>910</td>\n",
              "      <td>53</td>\n",
              "      <td>0</td>\n",
              "      <td>98136.0</td>\n",
              "      <td>47.5208</td>\n",
              "      <td>-122.393</td>\n",
              "      <td>1360.0</td>\n",
              "      <td>5000</td>\n",
              "    </tr>\n",
              "    <tr>\n",
              "      <th>4</th>\n",
              "      <td>1954400510</td>\n",
              "      <td>15 February 2016</td>\n",
              "      <td>510000.0</td>\n",
              "      <td>3</td>\n",
              "      <td>2.00</td>\n",
              "      <td>1680.0</td>\n",
              "      <td>8080.0</td>\n",
              "      <td>1.0</td>\n",
              "      <td>No</td>\n",
              "      <td>None</td>\n",
              "      <td>Fair</td>\n",
              "      <td>8</td>\n",
              "      <td>1680.0</td>\n",
              "      <td>0</td>\n",
              "      <td>31</td>\n",
              "      <td>0</td>\n",
              "      <td>98074.0</td>\n",
              "      <td>47.6168</td>\n",
              "      <td>-122.045</td>\n",
              "      <td>1800.0</td>\n",
              "      <td>7503</td>\n",
              "    </tr>\n",
              "  </tbody>\n",
              "</table>\n",
              "</div>"
            ],
            "text/plain": [
              "           ID  ... Lot Area after Renovation (in Sqft)\n",
              "0  7129300520  ...                                5650\n",
              "1  6414100192  ...                                7639\n",
              "2  5631500400  ...                                8062\n",
              "3  2487200875  ...                                5000\n",
              "4  1954400510  ...                                7503\n",
              "\n",
              "[5 rows x 21 columns]"
            ]
          },
          "metadata": {
            "tags": []
          },
          "execution_count": 45
        }
      ]
    },
    {
      "cell_type": "code",
      "metadata": {
        "colab": {
          "base_uri": "https://localhost:8080/",
          "height": 754
        },
        "id": "VBJ99cf-gtzQ",
        "outputId": "45adc42e-361b-46d7-fbbf-c39edc8f02af"
      },
      "source": [
        "plt.figure(figsize= (10,7), dpi = 120)\n",
        "plt.hist(data['Flat Area (in Sqft)'], bins=150, color='red')\n",
        "plt.xlabel('Flat Area')\n",
        "plt.ylabel('frequency')\n",
        "plt.title('distribution of flat area')\n",
        "plt.show()"
      ],
      "execution_count": null,
      "outputs": [
        {
          "output_type": "display_data",
          "data": {
            "image/png": "[encoded data removed]",
            "text/plain": [
              "<Figure size 1200x840 with 1 Axes>"
            ]
          },
          "metadata": {
            "tags": [],
            "needs_background": "light"
          }
        }
      ]
    },
    {
      "cell_type": "code",
      "metadata": {
        "id": "S_XhSCO_hRbm"
      },
      "source": [
        "# it is right skewed, therefore we will apply log transform\n",
        "def log_transform(sample_data):\n",
        "  return np.log(sample_data)"
      ],
      "execution_count": null,
      "outputs": []
    },
    {
      "cell_type": "code",
      "metadata": {
        "colab": {
          "base_uri": "https://localhost:8080/"
        },
        "id": "PgC5HQYLhgpt",
        "outputId": "83a3fdb8-d928-404a-a3ba-796693bfc8b5"
      },
      "source": [
        "data['Transform flat area'] = data['Flat Area (in Sqft)'].map(log_transform)\n",
        "data['Transform flat area'].head()"
      ],
      "execution_count": null,
      "outputs": [
        {
          "output_type": "execute_result",
          "data": {
            "text/plain": [
              "0    7.073270\n",
              "1    7.851661\n",
              "2    6.646391\n",
              "3    7.580700\n",
              "4    7.426549\n",
              "Name: Transform flat area, dtype: float64"
            ]
          },
          "metadata": {
            "tags": []
          },
          "execution_count": 48
        }
      ]
    },
    {
      "cell_type": "code",
      "metadata": {
        "colab": {
          "base_uri": "https://localhost:8080/",
          "height": 754
        },
        "id": "gsJmhiCAh8hq",
        "outputId": "1b18b6e5-d84b-4c5a-e61a-e36a038dcd36"
      },
      "source": [
        "plt.figure(figsize = (10,7), dpi = 120)\n",
        "plt.hist(data['Transform flat area'], bins=150, color='red')\n",
        "plt.xlabel('Flat Area')\n",
        "plt.ylabel('frequency')\n",
        "plt.title('distribution of flat area')\n",
        "plt.show()"
      ],
      "execution_count": null,
      "outputs": [
        {
          "output_type": "display_data",
          "data": {
            "image/png": "[encoded data removed]",
            "text/plain": [
              "<Figure size 1200x840 with 1 Axes>"
            ]
          },
          "metadata": {
            "tags": [],
            "needs_background": "light"
          }
        }
      ]
    },
    {
      "cell_type": "markdown",
      "metadata": {
        "id": "XByd3q-sdmmY"
      },
      "source": [
        "sparse binning"
      ]
    },
    {
      "cell_type": "code",
      "metadata": {
        "colab": {
          "base_uri": "https://localhost:8080/"
        },
        "id": "s9I-ssWxcTbV",
        "outputId": "c761ef30-0b7d-4136-90d3-0cf220468a37"
      },
      "source": [
        "data['Condition of the House'].unique()"
      ],
      "execution_count": null,
      "outputs": [
        {
          "output_type": "execute_result",
          "data": {
            "text/plain": [
              "array(['Fair', 'Excellent', 'Good', 'Bad', 'Okay'], dtype=object)"
            ]
          },
          "metadata": {
            "tags": []
          },
          "execution_count": 50
        }
      ]
    },
    {
      "cell_type": "code",
      "metadata": {
        "colab": {
          "base_uri": "https://localhost:8080/"
        },
        "id": "u5S_v6HGdQs0",
        "outputId": "4855a113-f410-4a3c-fbf1-920ee80d96db"
      },
      "source": [
        "data['Condition of the House'].value_counts()"
      ],
      "execution_count": null,
      "outputs": [
        {
          "output_type": "execute_result",
          "data": {
            "text/plain": [
              "Fair         14031\n",
              "Good          5679\n",
              "Excellent     1701\n",
              "Okay           172\n",
              "Bad             30\n",
              "Name: Condition of the House, dtype: int64"
            ]
          },
          "metadata": {
            "tags": []
          },
          "execution_count": 51
        }
      ]
    },
    {
      "cell_type": "code",
      "metadata": {
        "id": "9AOTKlJ3dbTO"
      },
      "source": [
        "# as number of counts of okay and bad are very few, it's good idea to sparse bin  them.\n",
        "mean = []\n",
        "for i in data['Condition of the House'].unique():\n",
        "  mean.append(data['Sale Price'][data['Condition of the House']==i].mean())\n",
        "# above code will take the mean of all the sale prices corresponding to the condition of the house."
      ],
      "execution_count": null,
      "outputs": []
    },
    {
      "cell_type": "code",
      "metadata": {
        "colab": {
          "base_uri": "https://localhost:8080/"
        },
        "id": "169yzVRafTI6",
        "outputId": "0ae450dd-b52a-45da-c1a6-430f972ddf12"
      },
      "source": [
        "mean"
      ],
      "execution_count": null,
      "outputs": [
        {
          "output_type": "execute_result",
          "data": {
            "text/plain": [
              "[542130.6112061591,\n",
              " 612577.7425044092,\n",
              " 521277.51056710107,\n",
              " 334431.6666666667,\n",
              " 327316.2151162791]"
            ]
          },
          "metadata": {
            "tags": []
          },
          "execution_count": 56
        }
      ]
    },
    {
      "cell_type": "code",
      "metadata": {
        "colab": {
          "base_uri": "https://localhost:8080/",
          "height": 747
        },
        "id": "aCB1UxZBiMy6",
        "outputId": "cab5abff-b70a-4826-c5b4-1663686f99d5"
      },
      "source": [
        "plt.figure(figsize=(7,7), dpi = 120)\n",
        "plt.bar(data['Condition of the House'].unique(), mean)\n",
        "plt.xlabel('condition of the house')\n",
        "plt.ylabel('mean sale price')\n",
        "# what we can see from the graph is that average sale price for bad and okay and fair and good is quite same, so having these two different variables would make our dataset redundant."
      ],
      "execution_count": null,
      "outputs": [
        {
          "output_type": "execute_result",
          "data": {
            "text/plain": [
              "Text(0, 0.5, 'mean sale price')"
            ]
          },
          "metadata": {
            "tags": []
          },
          "execution_count": 57
        },
        {
          "output_type": "display_data",
          "data": {
            "image/png": "[encoded data removed]",
            "text/plain": [
              "<Figure size 840x840 with 1 Axes>"
            ]
          },
          "metadata": {
            "tags": [],
            "needs_background": "light"
          }
        }
      ]
    },
    {
      "cell_type": "code",
      "metadata": {
        "id": "R5GvF0jtkXD9"
      },
      "source": [
        "mapping = {\n",
        "    'Excellent':'Excellent',\n",
        "    'Fair':'Good',\n",
        "    'Good':'Good',\n",
        "    'Okay':'Okay',\n",
        "    'Bad':'Okay'\n",
        "}\n",
        "data['Condition of the House'] = data['Condition of the House'].map(mapping)"
      ],
      "execution_count": null,
      "outputs": []
    },
    {
      "cell_type": "code",
      "metadata": {
        "id": "r3YKQg1HlZsW"
      },
      "source": [
        "mean = []\n",
        "for i in data['Condition of the House'].unique():\n",
        "  mean.append(data['Sale Price'][data['Condition of the House']==i].mean())"
      ],
      "execution_count": null,
      "outputs": []
    },
    {
      "cell_type": "code",
      "metadata": {
        "colab": {
          "base_uri": "https://localhost:8080/",
          "height": 449
        },
        "id": "sUGUYPQ5mL_I",
        "outputId": "eded93c6-99a0-429b-ab36-f0bd8ef3172b"
      },
      "source": [
        "plt.figure(figsize=(7,7), dpi = 70)\n",
        "plt.bar(data['Condition of the House'].unique(), mean)\n",
        "plt.xlabel('condition of the house')\n",
        "plt.ylabel('mean sale price')\n",
        "# we simply repeated the above process of calculation of mean and plotting the bar graph.\n",
        "# in this bar plot we can see the difference is significant."
      ],
      "execution_count": null,
      "outputs": [
        {
          "output_type": "execute_result",
          "data": {
            "text/plain": [
              "Text(0, 0.5, 'mean sale price')"
            ]
          },
          "metadata": {
            "tags": []
          },
          "execution_count": 63
        },
        {
          "output_type": "display_data",
          "data": {
            "image/png": "[encoded data removed]",
            "text/plain": [
              "<Figure size 490x490 with 1 Axes>"
            ]
          },
          "metadata": {
            "tags": [],
            "needs_background": "light"
          }
        }
      ]
    },
    {
      "cell_type": "code",
      "metadata": {
        "colab": {
          "base_uri": "https://localhost:8080/"
        },
        "id": "UxXCSUHNnkS1",
        "outputId": "b4abc59f-aef6-4a43-da11-4f54b576114a"
      },
      "source": [
        "# doing binning for numerical variables\n",
        "len(data['Age of House (in Years)'].unique())"
      ],
      "execution_count": null,
      "outputs": [
        {
          "output_type": "execute_result",
          "data": {
            "text/plain": [
              "116"
            ]
          },
          "metadata": {
            "tags": []
          },
          "execution_count": 64
        }
      ]
    },
    {
      "cell_type": "code",
      "metadata": {
        "colab": {
          "base_uri": "https://localhost:8080/"
        },
        "id": "WyI1paP5n_AZ",
        "outputId": "84a6b11e-863e-4af0-e85a-881af5defc68"
      },
      "source": [
        "data['Age of House (in Years)'].max()"
      ],
      "execution_count": null,
      "outputs": [
        {
          "output_type": "execute_result",
          "data": {
            "text/plain": [
              "118"
            ]
          },
          "metadata": {
            "tags": []
          },
          "execution_count": 65
        }
      ]
    },
    {
      "cell_type": "code",
      "metadata": {
        "colab": {
          "base_uri": "https://localhost:8080/"
        },
        "id": "nuq4D0o0oIy9",
        "outputId": "97ed716c-ef77-4887-bb69-940666ab8754"
      },
      "source": [
        "data['Age of House (in Years)'].min()"
      ],
      "execution_count": null,
      "outputs": [
        {
          "output_type": "execute_result",
          "data": {
            "text/plain": [
              "3"
            ]
          },
          "metadata": {
            "tags": []
          },
          "execution_count": 66
        }
      ]
    },
    {
      "cell_type": "code",
      "metadata": {
        "id": "lIIE_V4qoM3Z"
      },
      "source": [
        "# the house which is 40 and 42 years old, will not make substantial difference in the model prediction considering those house have every other property same.\n"
      ],
      "execution_count": null,
      "outputs": []
    },
    {
      "cell_type": "code",
      "metadata": {
        "id": "9m9p8C3Qolo5"
      },
      "source": [
        "def age_of_house(x):\n",
        "  if x<10:\n",
        "    x = 'new'\n",
        "  elif x<50:\n",
        "    x = 'old'\n",
        "  else :\n",
        "    x = 'very old'\n",
        "  return x\n"
      ],
      "execution_count": null,
      "outputs": []
    },
    {
      "cell_type": "code",
      "metadata": {
        "colab": {
          "base_uri": "https://localhost:8080/"
        },
        "id": "DQMh-4Ojo7bC",
        "outputId": "2b5dcb19-54f6-49ca-9155-d43f9723fc9a"
      },
      "source": [
        "cat_house_age = data['Age of House (in Years)'].map(age_of_house)\n",
        "cat_house_age.unique()"
      ],
      "execution_count": null,
      "outputs": [
        {
          "output_type": "execute_result",
          "data": {
            "text/plain": [
              "array(['very old', 'old', 'new'], dtype=object)"
            ]
          },
          "metadata": {
            "tags": []
          },
          "execution_count": 68
        }
      ]
    },
    {
      "cell_type": "code",
      "metadata": {
        "id": "8wQ6Ak00puIC"
      },
      "source": [
        "# now we can convert above categorical variables into dummy variables\n",
        "# it is not always advisable to bin continious variabales as it may result in loss of data.\n"
      ],
      "execution_count": null,
      "outputs": []
    },
    {
      "cell_type": "markdown",
      "metadata": {
        "id": "5jdjn63Sqn-0"
      },
      "source": [
        "**feature generation**"
      ]
    },
    {
      "cell_type": "code",
      "metadata": {
        "id": "hDIwLkqlqr_4"
      },
      "source": [
        "# 1. feature extraction.\n",
        "# 2. combination of features."
      ],
      "execution_count": null,
      "outputs": []
    }
  ]
}